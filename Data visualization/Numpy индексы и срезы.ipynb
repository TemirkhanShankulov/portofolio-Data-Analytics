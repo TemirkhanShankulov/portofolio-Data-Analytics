{
 "cells": [
  {
   "cell_type": "markdown",
   "metadata": {},
   "source": [
    "### NumPy: Индексы & Срезы [Домашнее задание]\n",
    "> **\n",
    "> **Пишите код только там, где это показано для записи. Не удаляйте комментарии!**"
   ]
  },
  {
   "cell_type": "markdown",
   "metadata": {},
   "source": [
    "1. Импортируйте пакет NumPy"
   ]
  },
  {
   "cell_type": "code",
   "execution_count": 36,
   "metadata": {},
   "outputs": [
    {
     "name": "stdout",
     "output_type": "stream",
     "text": [
      "1.19.5\n"
     ]
    }
   ],
   "source": [
    "# Начало вашего кода\n",
    "import numpy as np\n",
    "# Конец вашего кода\n",
    "print(np.__version__)"
   ]
  },
  {
   "cell_type": "markdown",
   "metadata": {},
   "source": [
    "### Ожидаемый результат\n",
    "```\n",
    "1.17.4\n",
    "```"
   ]
  },
  {
   "cell_type": "markdown",
   "metadata": {},
   "source": [
    "2. Вам предоставляется список ```list1 = [1,3,5,2,3,5,72,4,7,4,2,6,5,4,89,9,6,423]```.\n",
    "Пожалуйста, извлеките элементы списка ```list1```, который разделяет его индекс в списке ```list1``` без остатка. Используйте два подхода для решения этой проблемы, используя только список ```list``` и используя массив ```numpy.ndarray``` отдельно.\n",
    "\n",
    "    **Примечание: не используйте ```enumerate```.**"
   ]
  },
  {
   "cell_type": "code",
   "execution_count": 5,
   "metadata": {},
   "outputs": [
    {
     "data": {
      "text/plain": [
       "5"
      ]
     },
     "execution_count": 5,
     "metadata": {},
     "output_type": "execute_result"
    }
   ],
   "source": [
    "list_1[2]"
   ]
  },
  {
   "cell_type": "code",
   "execution_count": 16,
   "metadata": {},
   "outputs": [
    {
     "name": "stdout",
     "output_type": "stream",
     "text": [
      "[1, 5, 2]\n"
     ]
    }
   ],
   "source": [
    "list_1 = [1,3,5,2,3,5,72,4,7,4,2,6,5,4,89,9,6,423]\n",
    "list_2 = []\n",
    "a = []\n",
    "b = []\n",
    "\n",
    "for i in range(len(list_1)):\n",
    "    a.append(i)\n",
    "\n",
    "for j in list_1:\n",
    "    b.append(j)\n",
    "  \n",
    "for num1,num2 in zip(a,b):\n",
    "    if num1%num2==0:\n",
    "        list_2.append(num2)\n",
    "print(list_2)\n",
    "# Конец вашего кода\n"
   ]
  },
  {
   "cell_type": "code",
   "execution_count": 10,
   "metadata": {},
   "outputs": [
    {
     "name": "stdout",
     "output_type": "stream",
     "text": [
      "[1, 5, 2]\n"
     ]
    }
   ],
   "source": [
    "list_1 = [1,3,5,2,3,5,72,4,7,4,2,6,5,4,89,9,6,423]\n",
    "list_2 = []\n",
    "\n",
    "for i in range(len(list_1)):\n",
    "    if i%list_1[i]==0:\n",
    "        list_2.append(list_1[i])\n",
    "    \n",
    "    \n",
    "print(list_2)"
   ]
  },
  {
   "cell_type": "code",
   "execution_count": 38,
   "metadata": {},
   "outputs": [
    {
     "name": "stdout",
     "output_type": "stream",
     "text": [
      "[1 5 2]\n"
     ]
    }
   ],
   "source": [
    "list_1 = [1,3,5,2,3,5,72,4,7,4,2,6,5,4,89,9,6,423]\n",
    "\n",
    "arr = np.array([1,3,5,2,3,5,72,4,7,4,2,6,5,4,89,9,6,423])\n",
    "idx = np.arange(len(arr))\n",
    "div = idx/arr\n",
    " \n",
    "print(arr[div == div.astype(int)]) "
   ]
  },
  {
   "cell_type": "markdown",
   "metadata": {},
   "source": [
    "### Ожидаемый результат\n",
    "```\n",
    "[1, 5, 2]\n",
    "```"
   ]
  },
  {
   "cell_type": "markdown",
   "metadata": {},
   "source": [
    "### Ожидаемый результат\n",
    "```\n",
    "[1 5 2]\n",
    "```"
   ]
  },
  {
   "cell_type": "markdown",
   "metadata": {},
   "source": [
    "3. Вам предоставляется список списков ```list_of_lists=[[1,2,3,4],[5,6,7,8],[9,10,11,12]]```. Пожалуйста, извлеките элементы, которые делят произведение индекса строки и индекса столбца без остатка.Используйте два подхода для решения этой проблемы, используя только список list и используя массив numpy.ndarray отдельно.\n",
    "\n",
    "**Примечание: не используйте ```enumerate```.**"
   ]
  },
  {
   "cell_type": "code",
   "execution_count": 44,
   "metadata": {},
   "outputs": [
    {
     "name": "stdout",
     "output_type": "stream",
     "text": [
      "[1, 2, 3, 4, 5, 9]\n"
     ]
    }
   ],
   "source": [
    "list_of_lists = [[1,2,3,4],\n",
    "                 [5,6,7,8],\n",
    "                 [9,10,11,12]]\n",
    "list_2 = []\n",
    "for i in range(len(list_of_lists)):\n",
    "    \n",
    "    for j in range(len(list_of_lists[i])):\n",
    "        \n",
    "        if  i*j %list_of_lists[i][j]==0:\n",
    "            list_2.append(list_of_lists[i][j])\n",
    "            \n",
    "            #list_2.append(list_of_lists[i])\n",
    "    \n",
    "            \n",
    "        \n",
    "print(list_2)        \n",
    "    \n"
   ]
  },
  {
   "cell_type": "markdown",
   "metadata": {},
   "source": [
    "### Ожидаемый результат\n",
    "```\n",
    "[1, 2, 3, 4, 5, 9]\n",
    "```"
   ]
  },
  {
   "cell_type": "code",
   "execution_count": 48,
   "metadata": {},
   "outputs": [
    {
     "name": "stdout",
     "output_type": "stream",
     "text": [
      "[1 2 3 4 5 9]\n"
     ]
    }
   ],
   "source": [
    "# numpy.ndarray\n",
    "# Начало вашего кода\n",
    "arr = np.array([[1,2,3,4],\n",
    "                 [5,6,7,8],\n",
    "                 [9,10,11,12]])\n",
    "\n",
    "list_2 = []\n",
    "for i in range(len(arr)):\n",
    "    \n",
    "    for j in range(len(arr[i])):\n",
    "        \n",
    "        if  i*j %arr[i,j]==0:\n",
    "            list_2.append(arr[i,j])\n",
    "            ndarr = np.array(list_2)\n",
    "\n",
    "# Конец вашего кода\n",
    "\n",
    "print(ndarr)\n"
   ]
  },
  {
   "cell_type": "markdown",
   "metadata": {},
   "source": [
    "### Ожидаемый результат\n",
    "```\n",
    "[1 2 3 4 5 9]\n",
    "```"
   ]
  },
  {
   "cell_type": "markdown",
   "metadata": {},
   "source": [
    "4. Пожалуйста, напишите две функции:\n",
    "\n",
    "```slice_list(orig_list, row_str, row_end, col_str, col_end)```\n",
    "\n",
    "```slice_list_ndarr(orig_list, row_str, row_end, col_str, col_end)```\n",
    "\n",
    "\n",
    "row_str и row_end - начальный индекс столбца и конечный индекс столбца среза.\n",
    "\n",
    "col_str и col_end - начальный индекс столбца и конечный индекс столбца среза.\n",
    "\n",
    "Пример:\n",
    "```\n",
    "orig_list =[[ 1, 2, 3],\n",
    "            [11,12,13],\n",
    "            [21,22,23]]\n",
    "\n",
    "res_list = slice_list(orig_list, 0, 2, 1, 3)\n",
    "\n",
    "Ответ:\n",
    "res_list = [[ 2, 3],\n",
    "            [12,13]]\n",
    "\n",
    "```"
   ]
  },
  {
   "cell_type": "code",
   "execution_count": 126,
   "metadata": {},
   "outputs": [
    {
     "name": "stdout",
     "output_type": "stream",
     "text": [
      "[[6, 7], [10, 11], [14, 15]]\n"
     ]
    }
   ],
   "source": [
    "list_of_lists = [[1,2,3,4],[5,6,7,8],[9,10,11,12],[13,14,15,16],[17,18,19,20]]\n",
    "\n",
    "def slice_list(orig_list, row_str, row_end, col_str, col_end):\n",
    "    # list\n",
    "    # Начало вашего кода\n",
    "    answer = []\n",
    "    \n",
    "    for i in range(row_str, row_end):\n",
    "        row = []\n",
    "        for j in range(col_str, col_end):\n",
    "            row.append(orig_list[i][j])\n",
    "        \n",
    "        answer.append(row)\n",
    "            \n",
    "    return answer \n",
    "    # Конец вашего кода\n",
    "\n",
    "print(slice_list(list_of_lists,1,4,1,3))\n"
   ]
  },
  {
   "cell_type": "markdown",
   "metadata": {},
   "source": [
    "### Ожидаемый результат\n",
    "```\n",
    "[[6, 7], [10, 11], [14, 15]]\n",
    "```"
   ]
  },
  {
   "cell_type": "code",
   "execution_count": 20,
   "metadata": {
    "scrolled": true
   },
   "outputs": [
    {
     "name": "stdout",
     "output_type": "stream",
     "text": [
      "[[6, 7], [10, 11], [14, 15]]\n"
     ]
    }
   ],
   "source": [
    "list_of_lists = [[1,2,3,4],[5,6,7,8],[9,10,11,12],[13,14,15,16],[17,18,19,20]]\n",
    "\n",
    "def slice_list_ndarr(orig_list, row_str, row_end, col_str, col_end):\n",
    "    # numpy.ndarray\n",
    "    # Начало вашего кода\n",
    "    a=np.array(orig_list)\n",
    "    b=a[row_str:row_end, col_str:col_end]\n",
    "    return b.tolist()\n",
    "    \n",
    "    # Конец вашего кода\n",
    "\n",
    "print(slice_list_ndarr(list_of_lists,1,4,1,3))"
   ]
  },
  {
   "cell_type": "markdown",
   "metadata": {},
   "source": [
    "### Ожидаемый результат\n",
    "```\n",
    "[[6, 7], [10, 11], [14, 15]]\n",
    "```"
   ]
  },
  {
   "cell_type": "markdown",
   "metadata": {},
   "source": [
    "# Прекрасная работа!"
   ]
  }
 ],
 "metadata": {
  "kernelspec": {
   "display_name": "Python 3",
   "language": "python",
   "name": "python3"
  },
  "language_info": {
   "codemirror_mode": {
    "name": "ipython",
    "version": 3
   },
   "file_extension": ".py",
   "mimetype": "text/x-python",
   "name": "python",
   "nbconvert_exporter": "python",
   "pygments_lexer": "ipython3",
   "version": "3.6.13"
  }
 },
 "nbformat": 4,
 "nbformat_minor": 2
}
