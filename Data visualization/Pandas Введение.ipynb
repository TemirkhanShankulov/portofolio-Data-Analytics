{
 "cells": [
  {
   "cell_type": "markdown",
   "metadata": {},
   "source": [
    "### pandas: Введение [Домашнее задание]\n",
    "> **Вы должны импортировать все необходимые пакеты самостоятельно.**\n",
    "\n",
    "> **Пишите код только там, где это показано для записи. Не удаляйте комментарии!**\n",
    "\n",
    "> **Вы не можете использовать pandas в этой задаче # 1.**\n",
    " "
   ]
  },
  {
   "cell_type": "markdown",
   "metadata": {},
   "source": [
    "1. Пожалуйста, напишите функцию ```load_data(filename)```, которая будет загружать данные из csv-файла в список списков. Пожалуйста, напишите функцию load_data (имя файла), которая будет загружать данные из csv-файла в список списков. Файл ```Social_Network_Ads.csv``` предоставлен вместе с этим jupyter notebook.\n",
    "\n",
    "\n",
    "**Примечание:**\n",
    "\n",
    "* В случае, если имя файла задано неверно, функция ```load_data``` должна вывести следующее сообщение об ошибке:\n",
    "\n",
    "```{имя файла} does not exist```"
   ]
  },
  {
   "cell_type": "code",
   "execution_count": 318,
   "metadata": {},
   "outputs": [],
   "source": [
    "import numpy as np"
   ]
  },
  {
   "cell_type": "code",
   "execution_count": 319,
   "metadata": {},
   "outputs": [],
   "source": [
    "import os"
   ]
  },
  {
   "cell_type": "code",
   "execution_count": 320,
   "metadata": {},
   "outputs": [],
   "source": [
    "#Начало вашего кода\n",
    "import csv\n",
    "\n",
    "def load_data(filename=None):\n",
    "    if os.path.exists(filename):\n",
    "        data_lst = []\n",
    "        with open(filename) as f:\n",
    "            csv_data = csv.reader(f)\n",
    "            \n",
    "            \n",
    "            \n",
    "\n",
    "            for row in csv_data:\n",
    "                \n",
    "                data_lst.append(row)\n",
    "                \n",
    "            header = data_lst[0]\n",
    "            data = data_lst[1:]\n",
    "             \n",
    "                \n",
    "            return header,data\n",
    "        \n",
    "       \n",
    "    else:\n",
    "        print('./SocialNetworkAds.csv does not exist')\n",
    "        header = None\n",
    "        data  = None\n",
    "        \n",
    "        return header,data\n",
    "        \n",
    "#Конец вашего кода"
   ]
  },
  {
   "cell_type": "code",
   "execution_count": 321,
   "metadata": {},
   "outputs": [
    {
     "name": "stdout",
     "output_type": "stream",
     "text": [
      "./SocialNetworkAds.csv does not exist\n"
     ]
    }
   ],
   "source": [
    "filename = \"./SocialNetworkAds.csv\"\n",
    "header, data = load_data(filename=filename)"
   ]
  },
  {
   "cell_type": "markdown",
   "metadata": {},
   "source": [
    "### Ожидаемый результат:\n",
    "\n",
    "```\n",
    "./SocialNetworkAds.csv does not exist\n",
    "```"
   ]
  },
  {
   "cell_type": "code",
   "execution_count": 322,
   "metadata": {},
   "outputs": [
    {
     "name": "stdout",
     "output_type": "stream",
     "text": [
      "None\n",
      "None\n"
     ]
    }
   ],
   "source": [
    "print(header)\n",
    "print(data)"
   ]
  },
  {
   "cell_type": "markdown",
   "metadata": {},
   "source": [
    "### Ожидаемый результат:\n",
    "\n",
    "```\n",
    "None\n",
    "None\n",
    "```"
   ]
  },
  {
   "cell_type": "code",
   "execution_count": 323,
   "metadata": {},
   "outputs": [],
   "source": [
    "filename = \"./Social_Network_Ads.csv\"\n",
    "header, data = load_data(filename=filename)"
   ]
  },
  {
   "cell_type": "code",
   "execution_count": 324,
   "metadata": {},
   "outputs": [
    {
     "name": "stdout",
     "output_type": "stream",
     "text": [
      "['User ID', 'Gender', 'Age', 'EstimatedSalary', 'Purchased']\n"
     ]
    }
   ],
   "source": [
    "print(header)"
   ]
  },
  {
   "cell_type": "markdown",
   "metadata": {},
   "source": [
    "### Ожидаемый результат:\n",
    "\n",
    "```\n",
    "['User ID', 'Gender', 'Age', 'EstimatedSalary', 'Purchased']\n",
    "```"
   ]
  },
  {
   "cell_type": "code",
   "execution_count": 325,
   "metadata": {},
   "outputs": [
    {
     "name": "stdout",
     "output_type": "stream",
     "text": [
      "['15624510', 'Male', '19', '19000', '0']\n",
      "['15810944', 'Male', '35', '20000', '0']\n",
      "['15668575', 'Female', '26', '43000', '0']\n",
      "['15603246', 'Female', '27', '57000', '0']\n",
      "['15804002', 'Male', '19', '76000', '0']\n"
     ]
    }
   ],
   "source": [
    "for i in range(5):\n",
    "    print(data[i])"
   ]
  },
  {
   "cell_type": "markdown",
   "metadata": {},
   "source": [
    "### Ожидаемый результат:\n",
    "\n",
    "```\n",
    "['15624510', 'Male', '19', '19000', '0']\n",
    "['15810944', 'Male', '35', '20000', '0']\n",
    "['15668575', 'Female', '26', '43000', '0']\n",
    "['15603246', 'Female', '27', '57000', '0']\n",
    "['15804002', 'Male', '19', '76000', '0']\n",
    "```"
   ]
  },
  {
   "cell_type": "markdown",
   "metadata": {},
   "source": [
    "2. Пожалуйста, реализуйте функцию ```data2dataframe(header,data)```, которая будет возвращать ```pandas.DataFrame```, используя входные аргументы: ```header``` и ```data```. Кроме того, если ```header``` или/и ```data``` не предоставлены, функция должна вернуть сообщение об ошибке."
   ]
  },
  {
   "cell_type": "code",
   "execution_count": 326,
   "metadata": {},
   "outputs": [],
   "source": [
    "#Начало вашего кода\n",
    "def data2dataframe(header=None,data=None):\n",
    "    if header and data:\n",
    "        return pd.DataFrame(data,columns = header)\n",
    "    else:\n",
    "        print('Error: input arguments are not provided properly data2dataframe(header, data)')\n",
    "#Конец вашего кода"
   ]
  },
  {
   "cell_type": "code",
   "execution_count": 327,
   "metadata": {},
   "outputs": [
    {
     "name": "stdout",
     "output_type": "stream",
     "text": [
      "Error: input arguments are not provided properly data2dataframe(header, data)\n",
      "Error: input arguments are not provided properly data2dataframe(header, data)\n",
      "Error: input arguments are not provided properly data2dataframe(header, data)\n"
     ]
    }
   ],
   "source": [
    "df_data0 = data2dataframe()\n",
    "df_data1 = data2dataframe(header=header)\n",
    "df_data2 = data2dataframe(data=data)\n",
    "df_data = data2dataframe(header=header,data=data)"
   ]
  },
  {
   "cell_type": "markdown",
   "metadata": {},
   "source": [
    "### Ожидаемый результат:\n",
    "\n",
    "```\n",
    "Error: input arguments are not provided properly data2dataframe(header, data)\n",
    "Error: input arguments are not provided properly data2dataframe(header, data)\n",
    "Error: input arguments are not provided properly data2dataframe(header, data)\n",
    "```"
   ]
  },
  {
   "cell_type": "code",
   "execution_count": 328,
   "metadata": {},
   "outputs": [
    {
     "name": "stdout",
     "output_type": "stream",
     "text": [
      "None\n",
      "None\n",
      "None\n",
      "      User ID  Gender Age EstimatedSalary Purchased\n",
      "0    15624510    Male  19           19000         0\n",
      "1    15810944    Male  35           20000         0\n",
      "2    15668575  Female  26           43000         0\n",
      "3    15603246  Female  27           57000         0\n",
      "4    15804002    Male  19           76000         0\n",
      "..        ...     ...  ..             ...       ...\n",
      "395  15691863  Female  46           41000         1\n",
      "396  15706071    Male  51           23000         1\n",
      "397  15654296  Female  50           20000         1\n",
      "398  15755018    Male  36           33000         0\n",
      "399  15594041  Female  49           36000         1\n",
      "\n",
      "[400 rows x 5 columns]\n"
     ]
    }
   ],
   "source": [
    "print(df_data0)\n",
    "print(df_data1)\n",
    "print(df_data2)\n",
    "print(df_data)"
   ]
  },
  {
   "cell_type": "markdown",
   "metadata": {},
   "source": [
    "### Ожидаемый результат:\n",
    "\n",
    "```\n",
    "None\n",
    "None\n",
    "None\n",
    "      User ID  Gender Age EstimatedSalary Purchased\n",
    "0    15624510    Male  19           19000         0\n",
    "1    15810944    Male  35           20000         0\n",
    "2    15668575  Female  26           43000         0\n",
    "3    15603246  Female  27           57000         0\n",
    "4    15804002    Male  19           76000         0\n",
    "..        ...     ...  ..             ...       ...\n",
    "395  15691863  Female  46           41000         1\n",
    "396  15706071    Male  51           23000         1\n",
    "397  15654296  Female  50           20000         1\n",
    "398  15755018    Male  36           33000         0\n",
    "399  15594041  Female  49           36000         1\n",
    "\n",
    "[400 rows x 5 columns]\n",
    "```"
   ]
  },
  {
   "cell_type": "markdown",
   "metadata": {},
   "source": [
    "3. Вы должны реализовать функцию ```extract(data, columns)```. которая будет извлекать столбцы из ```data```. Входной аргументы:\n",
    "    * ```data``` должен быть типа pandas.DataFrame\n",
    "    * ```columns``` должен быть списком с именами целевых столбцов, которые будут извлечены.\n",
    "    \n",
    "    **Во всех остальных случаях функция возвращает сообщение об ошибке.**\n",
    "\n",
    "Если имя столбца, указанное в аргументе ```columns```, не найдено в ```data```, его не следует включать в результат."
   ]
  },
  {
   "cell_type": "code",
   "execution_count": 329,
   "metadata": {},
   "outputs": [
    {
     "name": "stdout",
     "output_type": "stream",
     "text": [
      "True\n"
     ]
    }
   ],
   "source": [
    "# l = [1,2,3,4,54]\n",
    "# if type(l) == list:\n",
    "#     print('True')\n",
    "    "
   ]
  },
  {
   "cell_type": "code",
   "execution_count": 348,
   "metadata": {},
   "outputs": [
    {
     "name": "stdout",
     "output_type": "stream",
     "text": [
      "<class 'pandas.core.frame.DataFrame'>\n"
     ]
    }
   ],
   "source": [
    "#Начало вашего кода\n",
    "def extract(data=None,columns=None):\n",
    "    lst=[]\n",
    "    if data is not None and columns is not None and type(columns) == list:\n",
    "        \n",
    "        for i in columns:\n",
    "            if i in header:\n",
    "                lst.append(i)\n",
    "    \n",
    "    \n",
    "        return data[lst]\n",
    "                \n",
    "   \n",
    "    \n",
    "    else:\n",
    "        print('Error: input arguments are not provided properly extract(data, columns)')\n",
    "        \n",
    "print(type(df_data))\n",
    "#Конец вашего кода"
   ]
  },
  {
   "cell_type": "code",
   "execution_count": 349,
   "metadata": {},
   "outputs": [
    {
     "name": "stdout",
     "output_type": "stream",
     "text": [
      "Error: input arguments are not provided properly extract(data, columns)\n",
      "Error: input arguments are not provided properly extract(data, columns)\n",
      "Error: input arguments are not provided properly extract(data, columns)\n",
      "Error: input arguments are not provided properly extract(data, columns)\n"
     ]
    }
   ],
   "source": [
    "df_target0=extract()\n",
    "df_target1=extract(data=df_data)\n",
    "df_target2=extract(columns=[\"User ID\"])\n",
    "df_target3=extract(data=df_data, columns=[\"User ID\"])\n",
    "df_target4=extract(data=df_data, columns=[\"User ID\",\"Purchased\"])\n",
    "df_target5=extract(data=df_data, columns=[\"gender\",\"Purchased\"])\n",
    "df_target6=extract(columns=\"User ID\",data=df_data,)"
   ]
  },
  {
   "cell_type": "markdown",
   "metadata": {},
   "source": [
    "### Ожидаемый результат:\n",
    "\n",
    "```\n",
    "Error: input arguments are not provided properly extract(data, columns)\n",
    "Error: input arguments are not provided properly extract(data, columns)\n",
    "Error: input arguments are not provided properly extract(data, columns)\n",
    "Error: input arguments are not provided properly extract(data, columns)\n",
    "```"
   ]
  },
  {
   "cell_type": "code",
   "execution_count": 332,
   "metadata": {},
   "outputs": [
    {
     "name": "stdout",
     "output_type": "stream",
     "text": [
      "None\n",
      "None\n",
      "None\n",
      "      User ID\n",
      "0    15624510\n",
      "1    15810944\n",
      "2    15668575\n",
      "3    15603246\n",
      "4    15804002\n",
      "..        ...\n",
      "395  15691863\n",
      "396  15706071\n",
      "397  15654296\n",
      "398  15755018\n",
      "399  15594041\n",
      "\n",
      "[400 rows x 1 columns]\n",
      "      User ID Purchased\n",
      "0    15624510         0\n",
      "1    15810944         0\n",
      "2    15668575         0\n",
      "3    15603246         0\n",
      "4    15804002         0\n",
      "..        ...       ...\n",
      "395  15691863         1\n",
      "396  15706071         1\n",
      "397  15654296         1\n",
      "398  15755018         0\n",
      "399  15594041         1\n",
      "\n",
      "[400 rows x 2 columns]\n",
      "    Purchased\n",
      "0           0\n",
      "1           0\n",
      "2           0\n",
      "3           0\n",
      "4           0\n",
      "..        ...\n",
      "395         1\n",
      "396         1\n",
      "397         1\n",
      "398         0\n",
      "399         1\n",
      "\n",
      "[400 rows x 1 columns]\n",
      "None\n"
     ]
    }
   ],
   "source": [
    "print(df_target0)\n",
    "print(df_target1)\n",
    "print(df_target2)\n",
    "print(df_target3)\n",
    "print(df_target4)\n",
    "print(df_target5)\n",
    "print(df_target6)"
   ]
  },
  {
   "cell_type": "markdown",
   "metadata": {},
   "source": [
    "### Ожидаемый результат:\n",
    "\n",
    "```\n",
    "None\n",
    "None\n",
    "None\n",
    "      User ID\n",
    "0    15624510\n",
    "1    15810944\n",
    "2    15668575\n",
    "3    15603246\n",
    "4    15804002\n",
    "..        ...\n",
    "395  15691863\n",
    "396  15706071\n",
    "397  15654296\n",
    "398  15755018\n",
    "399  15594041\n",
    "\n",
    "[400 rows x 1 columns]\n",
    "      User ID Purchased\n",
    "0    15624510         0\n",
    "1    15810944         0\n",
    "2    15668575         0\n",
    "3    15603246         0\n",
    "4    15804002         0\n",
    "..        ...       ...\n",
    "395  15691863         1\n",
    "396  15706071         1\n",
    "397  15654296         1\n",
    "398  15755018         0\n",
    "399  15594041         1\n",
    "\n",
    "[400 rows x 2 columns]\n",
    "    Purchased\n",
    "0           0\n",
    "1           0\n",
    "2           0\n",
    "3           0\n",
    "4           0\n",
    "..        ...\n",
    "395         1\n",
    "396         1\n",
    "397         1\n",
    "398         0\n",
    "399         1\n",
    "\n",
    "[400 rows x 1 columns]\n",
    "```"
   ]
  },
  {
   "cell_type": "markdown",
   "metadata": {},
   "source": [
    "4. Вы должны реализовать функцию ```slice_data(data, rows, cols)```. которая будет срезать целевые строки и столбцы из ```data```. Входной аргументы:\n",
    "    * ```data``` должен быть типа pandas.DataFrame\n",
    "    * ```rows``` должен быть кортежем с индексами начальных и конечных строк.\n",
    "    * ```cols``` должен быть кортежем с индексами начальных и конечных строк.\n",
    "    \n",
    "    **Во всех остальных случаях функция возвращает сообщение об ошибке.**"
   ]
  },
  {
   "cell_type": "code",
   "execution_count": 333,
   "metadata": {},
   "outputs": [
    {
     "data": {
      "text/html": [
       "<div>\n",
       "<style scoped>\n",
       "    .dataframe tbody tr th:only-of-type {\n",
       "        vertical-align: middle;\n",
       "    }\n",
       "\n",
       "    .dataframe tbody tr th {\n",
       "        vertical-align: top;\n",
       "    }\n",
       "\n",
       "    .dataframe thead th {\n",
       "        text-align: right;\n",
       "    }\n",
       "</style>\n",
       "<table border=\"1\" class=\"dataframe\">\n",
       "  <thead>\n",
       "    <tr style=\"text-align: right;\">\n",
       "      <th></th>\n",
       "      <th>User ID</th>\n",
       "      <th>Gender</th>\n",
       "    </tr>\n",
       "  </thead>\n",
       "  <tbody>\n",
       "    <tr>\n",
       "      <th>0</th>\n",
       "      <td>15624510</td>\n",
       "      <td>Male</td>\n",
       "    </tr>\n",
       "    <tr>\n",
       "      <th>1</th>\n",
       "      <td>15810944</td>\n",
       "      <td>Male</td>\n",
       "    </tr>\n",
       "  </tbody>\n",
       "</table>\n",
       "</div>"
      ],
      "text/plain": [
       "    User ID Gender\n",
       "0  15624510   Male\n",
       "1  15810944   Male"
      ]
     },
     "execution_count": 333,
     "metadata": {},
     "output_type": "execute_result"
    }
   ],
   "source": [
    "# df_data.iloc[0   :    100,     0   :    2]"
   ]
  },
  {
   "cell_type": "code",
   "execution_count": 369,
   "metadata": {},
   "outputs": [
    {
     "data": {
      "text/plain": [
       "[1]"
      ]
     },
     "execution_count": 369,
     "metadata": {},
     "output_type": "execute_result"
    }
   ],
   "source": [
    "# rows=(0,100)\n",
    "# [1]"
   ]
  },
  {
   "cell_type": "code",
   "execution_count": 370,
   "metadata": {},
   "outputs": [],
   "source": [
    "#Начало вашего кода\n",
    "def slice_data(data=None, rows=None, cols=None):\n",
    "    if data is not None and rows is not None and cols is not None:\n",
    "        \n",
    "        return data.iloc[rows[0]:   rows[1] , cols[0]:cols[1]]\n",
    "    \n",
    "    \n",
    "    else:\n",
    "        print('Error: input arguments are not provided properly slice_data(data,rows,cols)')\n",
    "#Конец вашего кода"
   ]
  },
  {
   "cell_type": "code",
   "execution_count": null,
   "metadata": {},
   "outputs": [],
   "source": []
  },
  {
   "cell_type": "code",
   "execution_count": 371,
   "metadata": {},
   "outputs": [
    {
     "name": "stdout",
     "output_type": "stream",
     "text": [
      "Error: input arguments are not provided properly slice_data(data,rows,cols)\n",
      "Error: input arguments are not provided properly slice_data(data,rows,cols)\n",
      "Error: input arguments are not provided properly slice_data(data,rows,cols)\n"
     ]
    }
   ],
   "source": [
    "df_slice0=slice_data()\n",
    "df_slice1=slice_data(data=df_data)\n",
    "df_slice2=slice_data(rows=(0,100),cols=(0,2))\n",
    "df_slice3=slice_data(data=df_data, rows=(0,100),cols=(0,2))"
   ]
  },
  {
   "cell_type": "markdown",
   "metadata": {},
   "source": [
    "### Ожидаемый результат:\n",
    "\n",
    "```\n",
    "Error: input arguments are not provided properly slice_data(data,rows,cols)\n",
    "Error: input arguments are not provided properly slice_data(data,rows,cols)\n",
    "Error: input arguments are not provided properly slice_data(data,rows,cols)\n",
    "```"
   ]
  },
  {
   "cell_type": "code",
   "execution_count": 372,
   "metadata": {},
   "outputs": [
    {
     "name": "stdout",
     "output_type": "stream",
     "text": [
      "None\n",
      "None\n",
      "None\n",
      "     User ID  Gender\n",
      "0   15624510    Male\n",
      "1   15810944    Male\n",
      "2   15668575  Female\n",
      "3   15603246  Female\n",
      "4   15804002    Male\n",
      "..       ...     ...\n",
      "95  15709441  Female\n",
      "96  15710257  Female\n",
      "97  15582492    Male\n",
      "98  15575694    Male\n",
      "99  15756820  Female\n",
      "\n",
      "[100 rows x 2 columns]\n"
     ]
    }
   ],
   "source": [
    "print(df_slice0)\n",
    "print(df_slice1)\n",
    "print(df_slice2)\n",
    "print(df_slice3)"
   ]
  },
  {
   "cell_type": "markdown",
   "metadata": {},
   "source": [
    "### Ожидаемый результат:\n",
    "\n",
    "```\n",
    "None\n",
    "None\n",
    "None\n",
    "     User ID  Gender\n",
    "0   15624510    Male\n",
    "1   15810944    Male\n",
    "2   15668575  Female\n",
    "3   15603246  Female\n",
    "4   15804002    Male\n",
    "..       ...     ...\n",
    "95  15709441  Female\n",
    "96  15710257  Female\n",
    "97  15582492    Male\n",
    "98  15575694    Male\n",
    "99  15756820  Female\n",
    "\n",
    "[100 rows x 2 columns]\n",
    "```"
   ]
  },
  {
   "cell_type": "markdown",
   "metadata": {},
   "source": [
    "# Прекрасная работа!"
   ]
  }
 ],
 "metadata": {
  "kernelspec": {
   "display_name": "Python 3",
   "language": "python",
   "name": "python3"
  },
  "language_info": {
   "codemirror_mode": {
    "name": "ipython",
    "version": 3
   },
   "file_extension": ".py",
   "mimetype": "text/x-python",
   "name": "python",
   "nbconvert_exporter": "python",
   "pygments_lexer": "ipython3",
   "version": "3.6.13"
  }
 },
 "nbformat": 4,
 "nbformat_minor": 2
}
