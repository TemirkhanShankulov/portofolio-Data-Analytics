{
 "cells": [
  {
   "cell_type": "markdown",
   "metadata": {},
   "source": [
    "### NumPy: Логическое индексирование [Домашнее задание]\n",
    "> **Вы должны импортировать все необходимые пакеты самостоятельно.**\n",
    "\n",
    "> **Пишите код только там, где это показано для записи. Не удаляйте комментарии!**\n",
    " "
   ]
  },
  {
   "cell_type": "markdown",
   "metadata": {},
   "source": [
    "1. Пожалуйста, напишите функцию ```load_data(filename)```, которая будет загружать данные из csv-файла в список списков. Пожалуйста, напишите функцию load_data (имя файла), которая будет загружать данные из csv-файла в список списков. Файл ```Social_Network_Ads.csv``` предоставлен вместе с этим jupyter notebook.\n",
    "\n",
    "\n",
    "**Примечание:** В случае, если имя файла задано неверно, функция ```load_data``` должна вывести следующее сообщение об ошибке:\n",
    "\n",
    "```{имя файла} does not exist```"
   ]
  },
  {
   "cell_type": "code",
   "execution_count": 1,
   "metadata": {},
   "outputs": [],
   "source": [
    "#Начало вашего кода\n",
    "import numpy as np\n",
    "import numpy.random as rd\n",
    "\n",
    "def load_data(filename):\n",
    "    import csv\n",
    "    if filename:\n",
    "        f = open(filename, 'r')\n",
    "        read = csv.reader(f)\n",
    "        data = list(read)\n",
    "        return data[0], data[1:]\n",
    "    f.close()\n",
    "#Конец вашего кода"
   ]
  },
  {
   "cell_type": "code",
   "execution_count": 2,
   "metadata": {},
   "outputs": [],
   "source": [
    "#Начало вашего кода\n",
    "import numpy as np\n",
    "import numpy.random as rd\n",
    "\n",
    "def load_data(filename):\n",
    "    import csv\n",
    "    try:\n",
    "        f = open(filename, 'r')\n",
    "        read = csv.reader(f)\n",
    "        data = list(read)\n",
    "        return data[0], data[1:]\n",
    "        f.close()\n",
    "    except FileNotFoundError:\n",
    "        print(f'{filename} does not exist')\n",
    "        return None, None\n",
    "#Конец вашего кода"
   ]
  },
  {
   "cell_type": "code",
   "execution_count": 3,
   "metadata": {},
   "outputs": [
    {
     "name": "stdout",
     "output_type": "stream",
     "text": [
      "./SocialNetworkAds.csv does not exist\n"
     ]
    }
   ],
   "source": [
    "filename = \"./SocialNetworkAds.csv\"\n",
    "header, data = load_data(filename=filename)"
   ]
  },
  {
   "cell_type": "markdown",
   "metadata": {},
   "source": [
    "### Ожидаемый результат:\n",
    "\n",
    "```\n",
    "./SocialNetworkAds.csv does not exist\n",
    "```"
   ]
  },
  {
   "cell_type": "code",
   "execution_count": 4,
   "metadata": {},
   "outputs": [
    {
     "name": "stdout",
     "output_type": "stream",
     "text": [
      "None\n",
      "None\n"
     ]
    }
   ],
   "source": [
    "print(header)\n",
    "print(data)"
   ]
  },
  {
   "cell_type": "markdown",
   "metadata": {},
   "source": [
    "### Ожидаемый результат:\n",
    "\n",
    "```\n",
    "None\n",
    "None\n",
    "```"
   ]
  },
  {
   "cell_type": "code",
   "execution_count": 5,
   "metadata": {},
   "outputs": [],
   "source": [
    "filename = \"./Social_Network_Ads.csv\"\n",
    "header, data = load_data(filename=filename)"
   ]
  },
  {
   "cell_type": "code",
   "execution_count": 6,
   "metadata": {},
   "outputs": [
    {
     "name": "stdout",
     "output_type": "stream",
     "text": [
      "['User ID', 'Gender', 'Age', 'EstimatedSalary', 'Purchased']\n"
     ]
    }
   ],
   "source": [
    "print(header)"
   ]
  },
  {
   "cell_type": "markdown",
   "metadata": {},
   "source": [
    "### Ожидаемый результат:\n",
    "\n",
    "```\n",
    "['User ID', 'Gender', 'Age', 'EstimatedSalary', 'Purchased']\n",
    "```"
   ]
  },
  {
   "cell_type": "code",
   "execution_count": 7,
   "metadata": {},
   "outputs": [
    {
     "name": "stdout",
     "output_type": "stream",
     "text": [
      "['15624510', 'Male', '19', '19000', '0']\n",
      "['15810944', 'Male', '35', '20000', '0']\n",
      "['15668575', 'Female', '26', '43000', '0']\n",
      "['15603246', 'Female', '27', '57000', '0']\n",
      "['15804002', 'Male', '19', '76000', '0']\n"
     ]
    }
   ],
   "source": [
    "for i in range(5):\n",
    "    print(data[i])"
   ]
  },
  {
   "cell_type": "markdown",
   "metadata": {},
   "source": [
    "### Ожидаемый результат:\n",
    "\n",
    "```\n",
    "['15624510', 'Male', '19', '19000', '0']\n",
    "['15810944', 'Male', '35', '20000', '0']\n",
    "['15668575', 'Female', '26', '43000', '0']\n",
    "['15603246', 'Female', '27', '57000', '0']\n",
    "['15804002', 'Male', '19', '76000', '0']\n",
    "```"
   ]
  },
  {
   "cell_type": "markdown",
   "metadata": {},
   "source": [
    "2. Пожалуйста, напишите функцию ```preprocess_data(data)```, которая преобразует все элементы типа ```str``` в списке ```data``` в целые числа.\n",
    "\n",
    "\n",
    "**Подсказка:** в случае \"Male\" и \"Female\" возможно следующее преобразование:\n",
    "\n",
    "* заменить \"Male\" на число 0\n",
    "\n",
    "* заменить \"Female\" на число 1"
   ]
  },
  {
   "cell_type": "code",
   "execution_count": 8,
   "metadata": {},
   "outputs": [],
   "source": [
    "#Начало вашего кода\n",
    "def preprocess_data(data):\n",
    "    import numpy as np\n",
    "    arr = np.array(data)\n",
    "    filt1 =  arr == \"Male\"\n",
    "    arr[filt1] = 0\n",
    "    filt2 = arr ==\"Female\"\n",
    "    arr[filt2] = 1\n",
    "    arr2 = np.array(arr, dtype=int)\n",
    "    return arr2\n",
    "#Конец вашего кода"
   ]
  },
  {
   "cell_type": "code",
   "execution_count": 9,
   "metadata": {},
   "outputs": [],
   "source": [
    "filt_data = preprocess_data(data=data)"
   ]
  },
  {
   "cell_type": "code",
   "execution_count": 10,
   "metadata": {},
   "outputs": [
    {
     "name": "stdout",
     "output_type": "stream",
     "text": [
      "[15624510, 0, 19, 19000, 0]\n",
      "[15810944, 0, 35, 20000, 0]\n",
      "[15668575, 1, 26, 43000, 0]\n",
      "[15603246, 1, 27, 57000, 0]\n",
      "[15804002, 0, 19, 76000, 0]\n"
     ]
    }
   ],
   "source": [
    "for i in range(5):\n",
    "    print(list(filt_data[i]))"
   ]
  },
  {
   "cell_type": "markdown",
   "metadata": {},
   "source": [
    "### Ожидаемый результат:\n",
    "\n",
    "```\n",
    "[15624510, 0, 19, 19000, 0]\n",
    "[15810944, 0, 35, 20000, 0]\n",
    "[15668575, 1, 26, 43000, 0]\n",
    "[15603246, 1, 27, 57000, 0]\n",
    "[15804002, 0, 19, 76000, 0]\n",
    "```"
   ]
  },
  {
   "cell_type": "markdown",
   "metadata": {},
   "source": [
    "2. Вы должны реализовать функцию ```salary_info(data, gender=None)```. Используя логическое индексирование, рассчитайте максимальное, минимальное, среднее, и стандартное отклонение зарплаты."
   ]
  },
  {
   "cell_type": "code",
   "execution_count": 11,
   "metadata": {},
   "outputs": [],
   "source": [
    "#Начало вашего кода\n",
    "def salary_info(data, gender=None):\n",
    "    if str(gender).lower()==\"female\":\n",
    "        filt = data[:,1] == 1\n",
    "        data = data[filt]\n",
    "        text = 'This statisctics are for only Female:'\n",
    "    elif str(gender).lower()==\"male\":\n",
    "        filt = data[:,1] == 0\n",
    "        data = data[filt]\n",
    "        text = 'This statisctics are for only Male:'\n",
    "    else:\n",
    "        text = 'This statisctics are for both genders:'\n",
    "    max_salary = round(data[:, 3].max(), 2)\n",
    "    min_salary = round(data[:, 3].min(), 2)\n",
    "    mean_salary = round(data[:, 3].mean(), 2)\n",
    "    std_salary = round(data[:, 3].std(), 2)\n",
    "    print(text)\n",
    "    print(f\"Max salary: {max_salary} USD\") \n",
    "    print(f\"Min salary: {min_salary} USD\")\n",
    "    print(f\"Mean salary: {mean_salary} USD\")\n",
    "    print(f\"Std of salary: {std_salary} USD\")\n",
    "#Конец вашего кода"
   ]
  },
  {
   "cell_type": "code",
   "execution_count": 12,
   "metadata": {},
   "outputs": [
    {
     "name": "stdout",
     "output_type": "stream",
     "text": [
      "This statisctics are for both genders:\n",
      "Max salary: 150000 USD\n",
      "Min salary: 15000 USD\n",
      "Mean salary: 69742.5 USD\n",
      "Std of salary: 34054.31 USD\n"
     ]
    }
   ],
   "source": [
    "salary_info(filt_data)"
   ]
  },
  {
   "cell_type": "markdown",
   "metadata": {},
   "source": [
    "### Ожидаемый результат:\n",
    "\n",
    "```\n",
    "This statisctics are for both genders:\n",
    "Max salary: 150000.00 USD\n",
    "Min salary: 15000.00 USD\n",
    "Mean salary: 69742.50 USD\n",
    "Std of salary: 34054.31 USD\n",
    "```"
   ]
  },
  {
   "cell_type": "code",
   "execution_count": 13,
   "metadata": {},
   "outputs": [
    {
     "name": "stdout",
     "output_type": "stream",
     "text": [
      "This statisctics are for only Female:\n",
      "Max salary: 150000 USD\n",
      "Min salary: 15000 USD\n",
      "Mean salary: 71759.8 USD\n",
      "Std of salary: 35507.89 USD\n"
     ]
    }
   ],
   "source": [
    "salary_info(filt_data, gender=\"Female\")"
   ]
  },
  {
   "cell_type": "markdown",
   "metadata": {},
   "source": [
    "### Ожидаемый результат:\n",
    "\n",
    "```\n",
    "This statisctics are for only Female:\n",
    "Max salary: 150000.00 USD\n",
    "Min salary: 15000.00 USD\n",
    "Mean salary: 71759.80 USD\n",
    "Std of salary: 35507.89 USD\n",
    "```"
   ]
  },
  {
   "cell_type": "code",
   "execution_count": 14,
   "metadata": {},
   "outputs": [
    {
     "name": "stdout",
     "output_type": "stream",
     "text": [
      "This statisctics are for only Male:\n",
      "Max salary: 150000 USD\n",
      "Min salary: 15000 USD\n",
      "Mean salary: 67642.86 USD\n",
      "Std of salary: 32339.0 USD\n"
     ]
    }
   ],
   "source": [
    "salary_info(filt_data, gender=\"male\")"
   ]
  },
  {
   "cell_type": "markdown",
   "metadata": {},
   "source": [
    "### Ожидаемый результат:\n",
    "\n",
    "```\n",
    "This statisctics are for only Male:\n",
    "Max salary: 150000.00 USD\n",
    "Min salary: 15000.00 USD\n",
    "Mean salary: 67642.86 USD\n",
    "Std of salary: 32339.00 USD\n",
    "```"
   ]
  },
  {
   "cell_type": "markdown",
   "metadata": {},
   "source": [
    "3. Вы должны реализовать функцию ```age_info(data, gender=None)```. Используя логическое индексирование, рассчитайте максимальное, минимальное, среднее, и стандартное отклонение возрастов."
   ]
  },
  {
   "cell_type": "code",
   "execution_count": 15,
   "metadata": {},
   "outputs": [],
   "source": [
    "#Начало вашего кода\n",
    "def age_info(data, gender=None):\n",
    "    if str(gender).lower()==\"female\":\n",
    "        filt = data[:,1] == 1\n",
    "        data = data[filt]\n",
    "        text = 'This statisctics are for only Female:'\n",
    "    elif str(gender).lower()==\"male\":\n",
    "        filt = data[:,1] == 0\n",
    "        data = data[filt]\n",
    "        text = 'This statisctics are for only Male:'\n",
    "    else:\n",
    "        text = 'This statisctics are for both genders:'\n",
    "    max_age = round(data[:, 2].max(), 2)\n",
    "    min_age = round(data[:, 2].min(), 2)\n",
    "    mean_age = round(data[:, 2].mean(), 2)\n",
    "    std_age = round(data[:, 2].std(), 2)\n",
    "    print(text)\n",
    "    print(f\"Max age: {max_age} years old\") \n",
    "    print(f\"Min age: {min_age} years old\")\n",
    "    print(f\"Mean age: {mean_age} years old\")\n",
    "    print(f\"Std of age: {std_age} years old\")\n",
    "#Конец вашего кода"
   ]
  },
  {
   "cell_type": "code",
   "execution_count": 16,
   "metadata": {},
   "outputs": [
    {
     "name": "stdout",
     "output_type": "stream",
     "text": [
      "This statisctics are for both genders:\n",
      "Max age: 60 years old\n",
      "Min age: 18 years old\n",
      "Mean age: 37.66 years old\n",
      "Std of age: 10.47 years old\n"
     ]
    }
   ],
   "source": [
    "age_info(filt_data)"
   ]
  },
  {
   "cell_type": "markdown",
   "metadata": {},
   "source": [
    "### Ожидаемый результат:\n",
    "\n",
    "```\n",
    "This statisctics are for both genders:\n",
    "Max age: 60.00 years old\n",
    "Min age: 18.00 years old\n",
    "Mean age: 37.66 years old\n",
    "Std of age: 10.47 years\n",
    "```"
   ]
  },
  {
   "cell_type": "code",
   "execution_count": 17,
   "metadata": {},
   "outputs": [
    {
     "name": "stdout",
     "output_type": "stream",
     "text": [
      "This statisctics are for only Female:\n",
      "Max age: 60 years old\n",
      "Min age: 18 years old\n",
      "Mean age: 38.41 years old\n",
      "Std of age: 10.83 years old\n"
     ]
    }
   ],
   "source": [
    "age_info(filt_data,\"FEMALE\")"
   ]
  },
  {
   "cell_type": "markdown",
   "metadata": {},
   "source": [
    "### Ожидаемый результат:\n",
    "\n",
    "```\n",
    "This statisctics are for only Female:\n",
    "Max age: 60.00 years old\n",
    "Min age: 18.00 years old\n",
    "Mean age: 38.41 years old\n",
    "Std of age: 10.83 years\n",
    "```"
   ]
  },
  {
   "cell_type": "code",
   "execution_count": 18,
   "metadata": {},
   "outputs": [
    {
     "name": "stdout",
     "output_type": "stream",
     "text": [
      "This statisctics are for only Male:\n",
      "Max age: 60 years old\n",
      "Min age: 18 years old\n",
      "Mean age: 36.87 years old\n",
      "Std of age: 10.02 years old\n"
     ]
    }
   ],
   "source": [
    "age_info(filt_data,\"mALE\")"
   ]
  },
  {
   "cell_type": "markdown",
   "metadata": {},
   "source": [
    "### Ожидаемый результат:\n",
    "\n",
    "```\n",
    "This statisctics are for only Male:\n",
    "Max age: 60.00 years old\n",
    "Min age: 18.00 years old\n",
    "Mean age: 36.87 years old\n",
    "Std of age: 10.02 years\n",
    "```"
   ]
  },
  {
   "cell_type": "markdown",
   "metadata": {},
   "source": [
    "4. Реализовать функции ```salary_info_purchased(data, gender=None, purchased=None)``` и ```age_info_purchased(data, gender=None, purchased=None)```, возвращая статистику, как в задачах 2 и 3, но в зависимости от того, приобрел ли человек продукт или нет."
   ]
  },
  {
   "cell_type": "code",
   "execution_count": 19,
   "metadata": {},
   "outputs": [],
   "source": [
    "#Начало вашего кода\n",
    "def salary_info_purchased(data, gender=None, purchased=None):\n",
    "    if str(gender).lower()==\"female\":\n",
    "        filt = data[:,1] == 1\n",
    "        data = data[filt]\n",
    "        text = 'only Female:'\n",
    "    elif str(gender).lower()==\"male\":\n",
    "        filt = data[:,1] == 0\n",
    "        data = data[filt]\n",
    "        text = 'only Male:'\n",
    "    else:\n",
    "        text = 'both genders:'\n",
    "\n",
    "    if purchased==True:\n",
    "        filt = data[:,4] == 1\n",
    "        data = data[filt]\n",
    "        text2 = ' and who purchased'\n",
    "    elif purchased==False:\n",
    "        filt = data[:,4] == 0\n",
    "        data = data[filt]\n",
    "        text2 = ' and who did not purchased'\n",
    "    else:\n",
    "        text2 = \"\"\n",
    "    \n",
    "    max_salary = round(data[:, 3].max(), 2)\n",
    "    min_salary = round(data[:, 3].min(), 2)\n",
    "    mean_salary = round(data[:, 3].mean(), 2)\n",
    "    std_salary = round(data[:, 3].std(), 2)\n",
    "    print(f\"This statisctics are for {text}{text2}:\")\n",
    "    print(f\"Max salary: {max_salary} USD\") \n",
    "    print(f\"Min salary: {min_salary} USD\")\n",
    "    print(f\"Mean salary: {mean_salary} USD\")\n",
    "    print(f\"Std of salary: {std_salary} USD\")    \n",
    "#Конец вашего кода"
   ]
  },
  {
   "cell_type": "code",
   "execution_count": 20,
   "metadata": {},
   "outputs": [
    {
     "name": "stdout",
     "output_type": "stream",
     "text": [
      "This statisctics are for both genders::\n",
      "Max salary: 150000 USD\n",
      "Min salary: 15000 USD\n",
      "Mean salary: 69742.5 USD\n",
      "Std of salary: 34054.31 USD\n",
      "\n",
      "\n",
      "This statisctics are for only Female::\n",
      "Max salary: 150000 USD\n",
      "Min salary: 15000 USD\n",
      "Mean salary: 71759.8 USD\n",
      "Std of salary: 35507.89 USD\n",
      "\n",
      "\n",
      "This statisctics are for only Male::\n",
      "Max salary: 150000 USD\n",
      "Min salary: 15000 USD\n",
      "Mean salary: 67642.86 USD\n",
      "Std of salary: 32339.0 USD\n",
      "\n",
      "\n",
      "This statisctics are for both genders: and who purchased:\n",
      "Max salary: 150000 USD\n",
      "Min salary: 20000 USD\n",
      "Mean salary: 86272.73 USD\n",
      "Std of salary: 41916.86 USD\n",
      "\n",
      "\n",
      "This statisctics are for only Female: and who purchased:\n",
      "Max salary: 150000 USD\n",
      "Min salary: 20000 USD\n",
      "Mean salary: 88714.29 USD\n",
      "Std of salary: 42842.16 USD\n",
      "\n",
      "\n",
      "This statisctics are for only Male: and who did not purchased:\n",
      "Max salary: 141000 USD\n",
      "Min salary: 15000 USD\n",
      "Mean salary: 59630.77 USD\n",
      "Std of salary: 23413.72 USD\n",
      "\n",
      "\n"
     ]
    }
   ],
   "source": [
    "salary_info_purchased(filt_data)\n",
    "print(\"\\n\")\n",
    "salary_info_purchased(filt_data, gender=\"Female\")\n",
    "print(\"\\n\")\n",
    "salary_info_purchased(filt_data, gender=\"Male\")\n",
    "print(\"\\n\")\n",
    "salary_info_purchased(filt_data, purchased=True)\n",
    "print(\"\\n\")\n",
    "salary_info_purchased(filt_data, gender=\"Female\", purchased=True)\n",
    "print(\"\\n\")\n",
    "salary_info_purchased(filt_data, gender=\"Male\", purchased=False)\n",
    "print(\"\\n\")"
   ]
  },
  {
   "cell_type": "markdown",
   "metadata": {},
   "source": [
    "### Ожидаемый результат:\n",
    "\n",
    "```\n",
    "This statisctics are for both genders:\n",
    "Max salary: 150000.00 USD\n",
    "Min salary: 15000.00 USD\n",
    "Mean salary: 69742.50 USD\n",
    "Std of salary: 34054.31 USD\n",
    "\n",
    "\n",
    "This statisctics are for only Female:\n",
    "Max salary: 150000.00 USD\n",
    "Min salary: 15000.00 USD\n",
    "Mean salary: 71759.80 USD\n",
    "Std of salary: 35507.89 USD\n",
    "\n",
    "\n",
    "This statisctics are for only Male:\n",
    "Max salary: 150000.00 USD\n",
    "Min salary: 15000.00 USD\n",
    "Mean salary: 67642.86 USD\n",
    "Std of salary: 32339.00 USD\n",
    "\n",
    "\n",
    "This statisctics are for both genders and who purchased:\n",
    "Max salary: 150000.00 USD\n",
    "Min salary: 20000.00 USD\n",
    "Mean salary: 86272.73 USD\n",
    "Std of salary: 41916.86 USD\n",
    "\n",
    "\n",
    "This statisctics are for only Female and who purchased:\n",
    "Max salary: 150000.00 USD\n",
    "Min salary: 20000.00 USD\n",
    "Mean salary: 88714.29 USD\n",
    "Std of salary: 42842.16 USD\n",
    "\n",
    "\n",
    "This statisctics are for only Male and who did not purchased:\n",
    "Max salary: 141000.00 USD\n",
    "Min salary: 15000.00 USD\n",
    "Mean salary: 59630.77 USD\n",
    "Std of salary: 23413.72 USD\n",
    "```"
   ]
  },
  {
   "cell_type": "code",
   "execution_count": 21,
   "metadata": {},
   "outputs": [],
   "source": [
    "#Начало вашего кода\n",
    "def age_info_purchased(data, gender=None, purchased=None):\n",
    "    if str(gender).lower()==\"female\":\n",
    "        filt = data[:,1] == 1\n",
    "        data = data[filt]\n",
    "        text = 'only Female:'\n",
    "    elif str(gender).lower()==\"male\":\n",
    "        filt = data[:,1] == 0\n",
    "        data = data[filt]\n",
    "        text = 'only Male:'\n",
    "    else:\n",
    "        text = 'both genders:'\n",
    "\n",
    "    if purchased==True:\n",
    "        filt = data[:,4] == 1\n",
    "        data = data[filt]\n",
    "        text2 = ' and who purchased'\n",
    "    elif purchased==False:\n",
    "        filt = data[:,4] == 0\n",
    "        data = data[filt]\n",
    "        text2 = ' and who did not purchased'\n",
    "    else:\n",
    "        text2 = \"\"\n",
    "    \n",
    "    max_age = round(data[:, 2].max(), 2)\n",
    "    min_age = round(data[:, 2].min(), 2)\n",
    "    mean_age = round(data[:, 2].mean(), 2)\n",
    "    std_age = round(data[:, 2].std(), 2)\n",
    "    print(f\"This statisctics are for {text}{text2}:\")\n",
    "    print(f\"Max salary: {max_age} years old\") \n",
    "    print(f\"Min salary: {min_age} years old\")\n",
    "    print(f\"Mean salary: {mean_age} years old\")\n",
    "    print(f\"Std of salary: {std_age} years\")    \n",
    "#Конец вашего кода"
   ]
  },
  {
   "cell_type": "code",
   "execution_count": 22,
   "metadata": {},
   "outputs": [
    {
     "name": "stdout",
     "output_type": "stream",
     "text": [
      "This statisctics are for both genders::\n",
      "Max salary: 60 years old\n",
      "Min salary: 18 years old\n",
      "Mean salary: 37.66 years old\n",
      "Std of salary: 10.47 years\n",
      "\n",
      "\n",
      "This statisctics are for only Female::\n",
      "Max salary: 60 years old\n",
      "Min salary: 18 years old\n",
      "Mean salary: 38.41 years old\n",
      "Std of salary: 10.83 years\n",
      "\n",
      "\n",
      "This statisctics are for only Male::\n",
      "Max salary: 60 years old\n",
      "Min salary: 18 years old\n",
      "Mean salary: 36.87 years old\n",
      "Std of salary: 10.02 years\n",
      "\n",
      "\n",
      "This statisctics are for both genders: and who purchased:\n",
      "Max salary: 60 years old\n",
      "Min salary: 27 years old\n",
      "Mean salary: 46.39 years old\n",
      "Std of salary: 8.58 years\n",
      "\n",
      "\n",
      "This statisctics are for only Female: and who purchased:\n",
      "Max salary: 60 years old\n",
      "Min salary: 27 years old\n",
      "Mean salary: 47.16 years old\n",
      "Std of salary: 8.41 years\n",
      "\n",
      "\n",
      "This statisctics are for only Male: and who did not purchased:\n",
      "Max salary: 49 years old\n",
      "Min salary: 18 years old\n",
      "Mean salary: 32.48 years old\n",
      "Std of salary: 7.48 years\n",
      "\n",
      "\n"
     ]
    }
   ],
   "source": [
    "age_info_purchased(filt_data)\n",
    "print(\"\\n\")\n",
    "age_info_purchased(filt_data, gender=\"Female\")\n",
    "print(\"\\n\")\n",
    "age_info_purchased(filt_data, gender=\"Male\")\n",
    "print(\"\\n\")\n",
    "age_info_purchased(filt_data, purchased=True)\n",
    "print(\"\\n\")\n",
    "age_info_purchased(filt_data, gender=\"Female\", purchased=True)\n",
    "print(\"\\n\")\n",
    "age_info_purchased(filt_data, gender=\"Male\", purchased=False)\n",
    "print(\"\\n\")"
   ]
  },
  {
   "cell_type": "markdown",
   "metadata": {},
   "source": [
    "### Ожидаемый результат:\n",
    "\n",
    "```\n",
    "This statisctics are for both genders:\n",
    "Max age: 60.00 years old\n",
    "Min age: 18.00 years old\n",
    "Mean age: 37.66 years old\n",
    "Std of age: 10.47 years\n",
    "\n",
    "\n",
    "This statisctics are for only Female:\n",
    "Max age: 60.00 years old\n",
    "Min age: 18.00 years old\n",
    "Mean age: 38.41 years old\n",
    "Std of age: 10.83 years\n",
    "\n",
    "\n",
    "This statisctics are for only Male:\n",
    "Max age: 60.00 years old\n",
    "Min age: 18.00 years old\n",
    "Mean age: 36.87 years old\n",
    "Std of age: 10.02 years\n",
    "\n",
    "\n",
    "This statisctics are for both genders and who purchased:\n",
    "Max age: 60.00 years old\n",
    "Min age: 27.00 years old\n",
    "Mean age: 46.39 years old\n",
    "Std of age:  8.58 years\n",
    "\n",
    "\n",
    "This statisctics are for only Female and who purchased:\n",
    "Max age: 60.00 years old\n",
    "Min age: 27.00 years old\n",
    "Mean age: 47.16 years old\n",
    "Std of age:  8.41 years\n",
    "\n",
    "\n",
    "This statisctics are for only Male and who did not purchased:\n",
    "Max age: 49.00 years old\n",
    "Min age: 18.00 years old\n",
    "Mean age: 32.48 years old\n",
    "Std of age:  7.48 years\n",
    "```"
   ]
  },
  {
   "cell_type": "markdown",
   "metadata": {},
   "source": [
    "# Прекрасная работа!"
   ]
  }
 ],
 "metadata": {
  "kernelspec": {
   "display_name": "Python 3",
   "language": "python",
   "name": "python3"
  },
  "language_info": {
   "codemirror_mode": {
    "name": "ipython",
    "version": 3
   },
   "file_extension": ".py",
   "mimetype": "text/x-python",
   "name": "python",
   "nbconvert_exporter": "python",
   "pygments_lexer": "ipython3",
   "version": "3.6.13"
  }
 },
 "nbformat": 4,
 "nbformat_minor": 2
}
