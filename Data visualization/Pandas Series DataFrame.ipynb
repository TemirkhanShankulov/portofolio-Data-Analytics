{
 "cells": [
  {
   "cell_type": "markdown",
   "metadata": {},
   "source": [
    "### pandas: Series vs DataFrame [Домашнее задание]\n",
    "> **Вы должны импортировать все необходимые пакеты самостоятельно.**\n",
    "\n",
    "> **Пишите код только там, где это показано для записи. Не удаляйте комментарии!**\n",
    " "
   ]
  },
  {
   "cell_type": "markdown",
   "metadata": {},
   "source": [
    "1. Пожалуйста, напишите функцию ```load_data(filename)```, которая будет загружать данные из csv-файла в ```DataFrame```. Файл ```Social_Network_Ads.csv``` предоставлен вместе с этим jupyter notebook.\n",
    "\n",
    "\n",
    "**Примечание:**\n",
    "\n",
    "* В случае, если имя файла задано неверно, функция ```load_data``` должна вывести следующее сообщение об ошибке:\n",
    "\n",
    "```{имя файла} does not exist```"
   ]
  },
  {
   "cell_type": "code",
   "execution_count": 20,
   "metadata": {},
   "outputs": [],
   "source": [
    "import os"
   ]
  },
  {
   "cell_type": "code",
   "execution_count": 21,
   "metadata": {},
   "outputs": [],
   "source": [
    "import pandas as pd"
   ]
  },
  {
   "cell_type": "code",
   "execution_count": 22,
   "metadata": {},
   "outputs": [],
   "source": [
    "import numpy as np"
   ]
  },
  {
   "cell_type": "code",
   "execution_count": 23,
   "metadata": {},
   "outputs": [],
   "source": [
    "#Начало вашего кода\n",
    "import csv\n",
    "\n",
    "def load_data(filename=None):\n",
    "    if os.path.exists(filename):\n",
    "        data_lst = []\n",
    "        with open(filename) as f:\n",
    "            csv_data = csv.reader(f)\n",
    "            \n",
    "            \n",
    "            \n",
    "\n",
    "            for row in csv_data:\n",
    "                \n",
    "                data_lst.append(row)\n",
    "              \n",
    "            header = data_lst[0]\n",
    "            data = data_lst[1:]\n",
    "             \n",
    "                \n",
    "            return header,data\n",
    "        \n",
    "       \n",
    "    else:\n",
    "        print('./SocialNetworkAds.csv does not exist')\n",
    "        header = None\n",
    "        data  = None\n",
    "        \n",
    "        return header,data\n",
    "#Конец вашего кода"
   ]
  },
  {
   "cell_type": "code",
   "execution_count": 24,
   "metadata": {},
   "outputs": [
    {
     "name": "stdout",
     "output_type": "stream",
     "text": [
      "./SocialNetworkAds.csv does not exist\n"
     ]
    }
   ],
   "source": [
    "filename = \"./SocialNetworkAds.csv\"\n",
    "header, data = load_data(filename=filename)"
   ]
  },
  {
   "cell_type": "markdown",
   "metadata": {},
   "source": [
    "### Ожидаемый результат:\n",
    "\n",
    "```\n",
    "./SocialNetworkAds.csv does not exist\n",
    "```"
   ]
  },
  {
   "cell_type": "code",
   "execution_count": 25,
   "metadata": {},
   "outputs": [
    {
     "name": "stdout",
     "output_type": "stream",
     "text": [
      "None\n",
      "None\n"
     ]
    }
   ],
   "source": [
    "print(header)\n",
    "print(data)"
   ]
  },
  {
   "cell_type": "markdown",
   "metadata": {},
   "source": [
    "### Ожидаемый результат:\n",
    "\n",
    "```\n",
    "None\n",
    "None\n",
    "```"
   ]
  },
  {
   "cell_type": "code",
   "execution_count": 26,
   "metadata": {},
   "outputs": [],
   "source": [
    "filename = \"./Social_Network_Ads.csv\"\n",
    "header, data = load_data(filename=filename)"
   ]
  },
  {
   "cell_type": "code",
   "execution_count": 27,
   "metadata": {},
   "outputs": [
    {
     "name": "stdout",
     "output_type": "stream",
     "text": [
      "['User ID', 'Gender', 'Age', 'EstimatedSalary', 'Purchased']\n"
     ]
    }
   ],
   "source": [
    "print(header)"
   ]
  },
  {
   "cell_type": "markdown",
   "metadata": {},
   "source": [
    "### Ожидаемый результат:\n",
    "\n",
    "```\n",
    "['User ID', 'Gender', 'Age', 'EstimatedSalary', 'Purchased']\n",
    "```"
   ]
  },
  {
   "cell_type": "markdown",
   "metadata": {},
   "source": [
    "**Распечатайте первые и последние 5 строк pandas.DataFrame:**"
   ]
  },
  {
   "cell_type": "code",
   "execution_count": 28,
   "metadata": {},
   "outputs": [
    {
     "name": "stdout",
     "output_type": "stream",
     "text": [
      "    User ID  Gender Age EstimatedSalary Purchased\n",
      "0  15624510    Male  19           19000         0\n",
      "1  15810944    Male  35           20000         0\n",
      "2  15668575  Female  26           43000         0\n",
      "3  15603246  Female  27           57000         0\n",
      "4  15804002    Male  19           76000         0\n",
      "      User ID  Gender Age EstimatedSalary Purchased\n",
      "395  15691863  Female  46           41000         1\n",
      "396  15706071    Male  51           23000         1\n",
      "397  15654296  Female  50           20000         1\n",
      "398  15755018    Male  36           33000         0\n",
      "399  15594041  Female  49           36000         1\n"
     ]
    }
   ],
   "source": [
    "#Начало вашего кода\n",
    "df_data = pd.DataFrame(data,columns=header)\n",
    "print(df_data[0:5])\n",
    "a=df_data[-5:]\n",
    "print(a)\n",
    "#Конец вашего кода"
   ]
  },
  {
   "cell_type": "markdown",
   "metadata": {},
   "source": [
    "### Ожидаемый результат:\n",
    "\n",
    "```\n",
    "User ID  Gender  Age  EstimatedSalary  Purchased\n",
    "0  15624510    Male   19            19000          0\n",
    "1  15810944    Male   35            20000          0\n",
    "2  15668575  Female   26            43000          0\n",
    "3  15603246  Female   27            57000          0\n",
    "4  15804002    Male   19            76000          0\n",
    "      User ID  Gender  Age  EstimatedSalary  Purchased\n",
    "395  15691863  Female   46            41000          1\n",
    "396  15706071    Male   51            23000          1\n",
    "397  15654296  Female   50            20000          1\n",
    "398  15755018    Male   36            33000          0\n",
    "399  15594041  Female   49            36000          1\n",
    "```"
   ]
  },
  {
   "cell_type": "markdown",
   "metadata": {},
   "source": [
    "2. Пожалуйста, реализуйте функцию ```frequency(data,columns)```, которая делает то же самое, что и ```pandas.Series.value_counts()```, за исключением того, что не использует сам этот метод, для всех существующих имен столбцов, указанных во входном аргументе. Входные аргументы:\n",
    "    * ```data``` должен быть типа pandas.DataFrame\n",
    "    * ```columns``` должен быть списком список с именами целевых столбцов\n",
    "\n",
    "Кроме того, \n",
    "* если ```data``` не предоставлены, функция должна вернуть сообщение об ошибке.\n",
    "* если ```columns``` не предоставлен, функция выполняет операцию для всех столбцов ```data```.\n"
   ]
  },
  {
   "cell_type": "code",
   "execution_count": 29,
   "metadata": {},
   "outputs": [],
   "source": [
    "# # Ordering a series\n",
    "# ser_data = {1: 10, 2: 20, 4: 15, 6: 25,8: 5}\n",
    "\n",
    "# # Define the new order of the series\n",
    "# ind = [1, 2, 4, 8, 6]\n",
    "\n",
    "# # Create the series\n",
    "# ser = pd.Series(ser_data, index=ind)\n",
    "# ser"
   ]
  },
  {
   "cell_type": "code",
   "execution_count": 30,
   "metadata": {},
   "outputs": [],
   "source": [
    "# a = {'Female': 204, 'Male': 196}\n",
    "# df_a = pd.DataFrame(a,index=[0])\n",
    "# print(df_a)"
   ]
  },
  {
   "cell_type": "code",
   "execution_count": 12,
   "metadata": {},
   "outputs": [],
   "source": [
    "# a = {'Female': 204, 'Male': 196}\n",
    "# df_a = pd.DataFrame(a,index=[0])\n",
    "# #print(df_a,'\\n')\n",
    " \n",
    "# print(df_a.loc[0].to_string(name=False, dtype=True))\n"
   ]
  },
  {
   "cell_type": "code",
   "execution_count": 13,
   "metadata": {},
   "outputs": [],
   "source": [
    "# my_list =[1, 1, 1, 5, 5, 3, 1, 3, 3, 1, 4, 4, 4, 2, 2, 2, 2]\n",
    "#     # Creating an empty dictionary\n",
    "# freq = {}\n",
    "# for item in my_list:\n",
    "#     if (item in freq):\n",
    "#         freq[item] += 1\n",
    "#     else:\n",
    "#         freq[item] = 1\n",
    " \n",
    "# for key, value in freq.items():\n",
    "#     print (\"% d  % d\"%(key, value))\n",
    " \n"
   ]
  },
  {
   "cell_type": "code",
   "execution_count": 14,
   "metadata": {},
   "outputs": [],
   "source": [
    "# for i in columns:\n",
    "            \n",
    "#     if i not in counter:\n",
    "#         counter[letter] = 0\n",
    "#         counter[letter] += 1"
   ]
  },
  {
   "cell_type": "code",
   "execution_count": 15,
   "metadata": {},
   "outputs": [],
   "source": [
    "#Начало вашего кода\n",
    "# def frequency(data=None,columns=None):\n",
    "#     #data = pd.DataFrame(data)\n",
    "#     if data is not None and columns is not None:\n",
    "   \n",
    "#         data_pd = pd.DataFrame(data,columns=header)\n",
    "\n",
    "#         #counter = {}\n",
    "#         lst_str = []\n",
    "#         lst_int = []\n",
    "        \n",
    "#         for i in range(len(columns)):\n",
    "#             if col in header:\n",
    "#                 #if col=='EstimatedSalary':\n",
    "#                     for i in data_pd[col]:\n",
    "#                         lst_int.append(i)\n",
    "                    \n",
    "#                 else: \n",
    "#                     for i in data_pd[col]:\n",
    "#                         lst_str.append(i)\n",
    "            \n",
    "#         key_str = []    \n",
    "#         x_str = pd.Series(lst_str)\n",
    "#         x_str_1 = dict(x_str.value_counts())\n",
    "#         for key, value in x_str_1.items() :\n",
    "#             key_str.append(key)\n",
    "#             seres_str = pd.Series(x_str_1, index=key_str)\n",
    "        \n",
    "      \n",
    "#         key_int = []\n",
    "        \n",
    "#         x_int = pd.Series(lst_int)\n",
    "#         x_int_1 = dict(x_int.value_counts())\n",
    "        \n",
    "#         for key, value in x_int_1.items() :\n",
    "#             key_int.append(key)\n",
    "        \n",
    "#             seres_int = pd.Series(x_int_1, index=key_int)\n",
    "        \n",
    "        \n",
    "#         return pd.Series([seres_str, seres_int], index = columns)\n",
    "\n",
    "#     else:\n",
    "#         return 'Error: input arguments are not provided properly frequency(data, columns)'\n",
    "#Конец вашего кода"
   ]
  },
  {
   "cell_type": "code",
   "execution_count": 55,
   "metadata": {},
   "outputs": [],
   "source": [
    "#Начало вашего кода\n",
    "\n",
    "\n",
    "def frequency(data=None, columns=None):\n",
    "    #data = pd.DataFrame(data)\n",
    "    \n",
    "    if columns is None:\n",
    "        \n",
    "            columns = header\n",
    "            \n",
    "    if data is None or str() in columns:\n",
    "        \n",
    "        return 'Error: input arguments are not provided properly frequency(data, columns)'\n",
    "\n",
    "    else:\n",
    "        \n",
    "        data_pd = pd.DataFrame(data,columns=header)\n",
    "        \n",
    "\n",
    "        d = {}\n",
    "        for idx in range(len(columns)):\n",
    "            d2 = {}\n",
    "\n",
    "            if columns[idx] in header:\n",
    "\n",
    "                for i in data_pd[columns[idx]]:\n",
    "\n",
    "                    if i not in d2:\n",
    "                        d2[i] = 1\n",
    "\n",
    "                    else:\n",
    "                        d2[i] = d2[i] + 1\n",
    "\n",
    "                    ser = pd.Series(d2)\n",
    "\n",
    "            d[columns[idx]] = ser\n",
    "\n",
    "        return d\n",
    "\n",
    "#Конец вашего кода"
   ]
  },
  {
   "cell_type": "code",
   "execution_count": 56,
   "metadata": {},
   "outputs": [
    {
     "name": "stdout",
     "output_type": "stream",
     "text": [
      "Error: input arguments are not provided properly frequency(data, columns)\n"
     ]
    }
   ],
   "source": [
    "res=frequency(columns=[\"Gender\",\"EstimatedSalary\"])\n",
    "print(res)"
   ]
  },
  {
   "cell_type": "markdown",
   "metadata": {},
   "source": [
    "### Ожидаемый результат:\n",
    "\n",
    "```\n",
    "Error: input arguments are not provided properly frequency(data, columns)\n",
    "```"
   ]
  },
  {
   "cell_type": "code",
   "execution_count": 57,
   "metadata": {},
   "outputs": [
    {
     "name": "stdout",
     "output_type": "stream",
     "text": [
      "Value counts for Gender column:\n",
      "Male      196\n",
      "Female    204\n",
      "dtype: int64\n",
      "-----------\n",
      "Value counts for EstimatedSalary column:\n",
      "19000     2\n",
      "20000     5\n",
      "43000     7\n",
      "57000     6\n",
      "76000     3\n",
      "         ..\n",
      "99000     1\n",
      "129000    1\n",
      "46000     1\n",
      "64000     1\n",
      "139000    1\n",
      "Length: 117, dtype: int64\n",
      "-----------\n"
     ]
    }
   ],
   "source": [
    "res=frequency(data=data,columns=[\"Gender\",\"EstimatedSalary\"])\n",
    "\n",
    "for key, sr in res.items():\n",
    "      print(f\"Value counts for {key} column:\")\n",
    "      print(sr)\n",
    "      print(\"-----------\")"
   ]
  },
  {
   "cell_type": "markdown",
   "metadata": {},
   "source": [
    "### Ожидаемый результат:\n",
    "\n",
    "```\n",
    "Value counts for Gender column:\n",
    "Male      196\n",
    "Female    204\n",
    "dtype: int64\n",
    "-----------\n",
    "Value counts for EstimatedSalary column:\n",
    "19000     2\n",
    "20000     5\n",
    "43000     7\n",
    "57000     6\n",
    "76000     3\n",
    "         ..\n",
    "99000     1\n",
    "129000    1\n",
    "46000     1\n",
    "64000     1\n",
    "139000    1\n",
    "Length: 117, dtype: int64\n",
    "-----------\n",
    "```"
   ]
  },
  {
   "cell_type": "code",
   "execution_count": null,
   "metadata": {},
   "outputs": [],
   "source": [
    "res=frequency(data=data)\n",
    "\n",
    "for key, sr in res.items():\n",
    "    print(f\"Value counts for {key} column:\")\n",
    "    print(sr)\n",
    "    print(\"-----------\")"
   ]
  },
  {
   "cell_type": "markdown",
   "metadata": {},
   "source": [
    "### Ожидаемый результат:\n",
    "\n",
    "```\n",
    "Value counts for User ID column:\n",
    "15624510    1\n",
    "15810944    1\n",
    "15668575    1\n",
    "15603246    1\n",
    "15804002    1\n",
    "           ..\n",
    "15691863    1\n",
    "15706071    1\n",
    "15654296    1\n",
    "15755018    1\n",
    "15594041    1\n",
    "Length: 400, dtype: int64\n",
    "-----------\n",
    "Value counts for Gender column:\n",
    "Male      196\n",
    "Female    204\n",
    "dtype: int64\n",
    "-----------\n",
    "Value counts for Age column:\n",
    "19     7\n",
    "35    32\n",
    "26    16\n",
    "27    13\n",
    "32     9\n",
    "25     6\n",
    "20     7\n",
    "18     5\n",
    "29    10\n",
    "47    14\n",
    "45     7\n",
    "46    12\n",
    "48    14\n",
    "49    10\n",
    "31    11\n",
    "21     4\n",
    "28    12\n",
    "33     9\n",
    "30    11\n",
    "23     6\n",
    "24     9\n",
    "22     5\n",
    "59     7\n",
    "34     6\n",
    "39    15\n",
    "38    13\n",
    "37    20\n",
    "42    16\n",
    "40    15\n",
    "36    12\n",
    "41    16\n",
    "58     6\n",
    "55     3\n",
    "52     6\n",
    "60     7\n",
    "56     3\n",
    "53     5\n",
    "50     4\n",
    "51     3\n",
    "57     5\n",
    "44     2\n",
    "43     3\n",
    "54     4\n",
    "dtype: int64\n",
    "-----------\n",
    "Value counts for EstimatedSalary column:\n",
    "19000     2\n",
    "20000     5\n",
    "43000     7\n",
    "57000     6\n",
    "76000     3\n",
    "         ..\n",
    "99000     1\n",
    "129000    1\n",
    "46000     1\n",
    "64000     1\n",
    "139000    1\n",
    "Length: 117, dtype: int64\n",
    "-----------\n",
    "Value counts for Purchased column:\n",
    "0    257\n",
    "1    143\n",
    "dtype: int64\n",
    "-----------\n",
    "```"
   ]
  },
  {
   "cell_type": "markdown",
   "metadata": {},
   "source": [
    "3. Пожалуйста, реализуйте функцию ```frequency_easy(data,columns)```, которая делает то же самое, что ```frequency(data,columns)```, за исключением того, что вы можете использовать ```pandas.Series.value_counts()```, для всех существующих имен столбцов, указанных во входном аргументе. Входные аргументы: \n",
    "    * data должен быть типа pandas.DataFrame\n",
    "    * columns должен быть списком список с именами целевых столбцов\n",
    "\n",
    "Кроме того,\n",
    "* если data не предоставлены, функция должна вернуть сообщение об ошибке.\n",
    "* если columns не предоставлен, функция выполняет операцию для всех столбцов data."
   ]
  },
  {
   "cell_type": "code",
   "execution_count": 68,
   "metadata": {},
   "outputs": [],
   "source": [
    "#Начало вашего кода\n",
    "\n",
    "def frequency_easy(data=None, columns=None):\n",
    "    #data = pd.DataFrame(data)\n",
    "    \n",
    "    if columns is None:\n",
    "        \n",
    "            columns = header\n",
    "            \n",
    "    if data is None or str() in columns:\n",
    "        \n",
    "        return 'Error: input arguments are not provided properly frequency(data, columns)'\n",
    "\n",
    "    else:\n",
    "        \n",
    "        data_pd = pd.DataFrame(data,columns=header)\n",
    "\n",
    "        d = {}\n",
    "        for idx in range(len(columns)):\n",
    "            #d2 = {}\n",
    "            dict_data = []\n",
    "            if columns[idx] in header:\n",
    "\n",
    "                for i in data_pd[columns[idx]]:\n",
    "                    \n",
    "                    dict_data.append(i)\n",
    "                    #print(i)\n",
    "                    key_str = []    \n",
    "                    x_str = pd.Series(dict_data)\n",
    "                    x_str_1 = dict(x_str.value_counts())\n",
    "                    for key, value in x_str_1.items() :\n",
    "                        key_str.append(key)\n",
    "                        seres_str = pd.Series(x_str_1, index=key_str)\n",
    "                    \n",
    "                        \n",
    "\n",
    "#                     if i not in d2:\n",
    "#                         d2[i] = 1\n",
    "\n",
    "#                     else:\n",
    "#                         d2[i] = d2[i] + 1\n",
    "                        \n",
    "                   \n",
    "\n",
    "                    ser = pd.Series(seres_str)\n",
    "            \n",
    "\n",
    "            d[columns[idx]] = ser\n",
    "            \n",
    "        return d\n",
    "    \n",
    "\n",
    "                    \n",
    "                    \n",
    "                #sr = pd.Series(columns[idx])\n",
    "#Конец вашего кода"
   ]
  },
  {
   "cell_type": "code",
   "execution_count": 69,
   "metadata": {},
   "outputs": [
    {
     "name": "stdout",
     "output_type": "stream",
     "text": [
      "Error: input arguments are not provided properly frequency(data, columns)\n"
     ]
    }
   ],
   "source": [
    "res=frequency_easy(columns=[\"Gender\",\"EstimatedSalary\"])\n",
    "print(res)"
   ]
  },
  {
   "cell_type": "markdown",
   "metadata": {},
   "source": [
    "### Ожидаемый результат:\n",
    "\n",
    "```\n",
    "Error: input arguments are not provided properly frequency_easy(data, columns)\n",
    "```"
   ]
  },
  {
   "cell_type": "code",
   "execution_count": 71,
   "metadata": {},
   "outputs": [
    {
     "name": "stdout",
     "output_type": "stream",
     "text": [
      "Value counts for Gender column:\n",
      "Female    204\n",
      "Male      196\n",
      "dtype: int64\n",
      "-----------\n",
      "Value counts for Age column:\n",
      "35    32\n",
      "37    20\n",
      "26    16\n",
      "41    16\n",
      "42    16\n",
      "39    15\n",
      "40    15\n",
      "48    14\n",
      "47    14\n",
      "38    13\n",
      "27    13\n",
      "36    12\n",
      "28    12\n",
      "46    12\n",
      "31    11\n",
      "30    11\n",
      "29    10\n",
      "49    10\n",
      "24     9\n",
      "33     9\n",
      "32     9\n",
      "59     7\n",
      "19     7\n",
      "60     7\n",
      "20     7\n",
      "45     7\n",
      "23     6\n",
      "58     6\n",
      "25     6\n",
      "52     6\n",
      "34     6\n",
      "18     5\n",
      "57     5\n",
      "22     5\n",
      "53     5\n",
      "50     4\n",
      "54     4\n",
      "21     4\n",
      "55     3\n",
      "43     3\n",
      "56     3\n",
      "51     3\n",
      "44     2\n",
      "dtype: int64\n",
      "-----------\n"
     ]
    }
   ],
   "source": [
    "res=frequency_easy(data=data,columns=[\"Gender\",\"Age\"])\n",
    "for key, sr in res.items():\n",
    "    print(f\"Value counts for {key} column:\")\n",
    "    print(sr)\n",
    "    print(\"-----------\")"
   ]
  },
  {
   "cell_type": "code",
   "execution_count": 72,
   "metadata": {},
   "outputs": [
    {
     "name": "stdout",
     "output_type": "stream",
     "text": [
      "Value counts for User ID column:\n",
      "15800890    1\n",
      "15750839    1\n",
      "15685536    1\n",
      "15753861    1\n",
      "15750447    1\n",
      "           ..\n",
      "15699619    1\n",
      "15783029    1\n",
      "15655123    1\n",
      "15809347    1\n",
      "15636023    1\n",
      "Length: 400, dtype: int64\n",
      "-----------\n",
      "Value counts for Gender column:\n",
      "Female    204\n",
      "Male      196\n",
      "dtype: int64\n",
      "-----------\n",
      "Value counts for Age column:\n",
      "35    32\n",
      "37    20\n",
      "26    16\n",
      "41    16\n",
      "42    16\n",
      "39    15\n",
      "40    15\n",
      "48    14\n",
      "47    14\n",
      "38    13\n",
      "27    13\n",
      "36    12\n",
      "28    12\n",
      "46    12\n",
      "31    11\n",
      "30    11\n",
      "29    10\n",
      "49    10\n",
      "24     9\n",
      "33     9\n",
      "32     9\n",
      "59     7\n",
      "19     7\n",
      "60     7\n",
      "20     7\n",
      "45     7\n",
      "23     6\n",
      "58     6\n",
      "25     6\n",
      "52     6\n",
      "34     6\n",
      "18     5\n",
      "57     5\n",
      "22     5\n",
      "53     5\n",
      "50     4\n",
      "54     4\n",
      "21     4\n",
      "55     3\n",
      "43     3\n",
      "56     3\n",
      "51     3\n",
      "44     2\n",
      "dtype: int64\n",
      "-----------\n",
      "Value counts for EstimatedSalary column:\n",
      "72000     12\n",
      "80000     11\n",
      "79000     10\n",
      "75000      9\n",
      "71000      9\n",
      "          ..\n",
      "106000     1\n",
      "102000     1\n",
      "93000      1\n",
      "91000      1\n",
      "105000     1\n",
      "Length: 117, dtype: int64\n",
      "-----------\n",
      "Value counts for Purchased column:\n",
      "0    257\n",
      "1    143\n",
      "dtype: int64\n",
      "-----------\n"
     ]
    }
   ],
   "source": [
    "res=frequency_easy(data=data)\n",
    "for key, sr in res.items():\n",
    "    print(f\"Value counts for {key} column:\")\n",
    "    print(sr)\n",
    "    print(\"-----------\")"
   ]
  },
  {
   "cell_type": "markdown",
   "metadata": {},
   "source": [
    "### Ожидаемый результат:\n",
    "\n",
    "```\n",
    "Value counts for Gender column:\n",
    "Female    204\n",
    "Male      196\n",
    "Name: Gender, dtype: int64\n",
    "-----------\n",
    "Value counts for Age column:\n",
    "35    32\n",
    "37    20\n",
    "41    16\n",
    "42    16\n",
    "26    16\n",
    "39    15\n",
    "40    15\n",
    "47    14\n",
    "48    14\n",
    "38    13\n",
    "27    13\n",
    "28    12\n",
    "46    12\n",
    "36    12\n",
    "31    11\n",
    "30    11\n",
    "29    10\n",
    "49    10\n",
    "32     9\n",
    "33     9\n",
    "24     9\n",
    "20     7\n",
    "19     7\n",
    "60     7\n",
    "59     7\n",
    "45     7\n",
    "25     6\n",
    "34     6\n",
    "58     6\n",
    "52     6\n",
    "23     6\n",
    "57     5\n",
    "22     5\n",
    "18     5\n",
    "53     5\n",
    "21     4\n",
    "50     4\n",
    "54     4\n",
    "55     3\n",
    "43     3\n",
    "56     3\n",
    "51     3\n",
    "44     2\n",
    "Name: Age, dtype: int64\n",
    "-----------\n",
    "```"
   ]
  },
  {
   "cell_type": "markdown",
   "metadata": {},
   "source": [
    "# Прекрасная работа!"
   ]
  }
 ],
 "metadata": {
  "kernelspec": {
   "display_name": "Python 3",
   "language": "python",
   "name": "python3"
  },
  "language_info": {
   "codemirror_mode": {
    "name": "ipython",
    "version": 3
   },
   "file_extension": ".py",
   "mimetype": "text/x-python",
   "name": "python",
   "nbconvert_exporter": "python",
   "pygments_lexer": "ipython3",
   "version": "3.6.13"
  }
 },
 "nbformat": 4,
 "nbformat_minor": 2
}
