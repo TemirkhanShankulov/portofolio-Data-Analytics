{
 "cells": [
  {
   "cell_type": "markdown",
   "metadata": {},
   "source": [
    "### Очистка и подготовка данных [Домашнее задание]"
   ]
  },
  {
   "cell_type": "markdown",
   "metadata": {},
   "source": [
    "Загрузите следующий файл Excel «synthetic_data.csv» и выполните все методы очистки и предварительной обработки, которые вы изучили в лекции. \n",
    "\n",
    "Наконец, сохраните новые «очищенные» данные в новый CSV-файл «cleaned_synthetic_data.csv»"
   ]
  },
  {
   "cell_type": "markdown",
   "metadata": {},
   "source": [
    "Примечание: вы можете использовать функции, классы, модули, пакеты и т. д. для выполнения домашней работы."
   ]
  },
  {
   "cell_type": "code",
   "execution_count": 19,
   "metadata": {},
   "outputs": [],
   "source": [
    "import os\n",
    "import csv"
   ]
  },
  {
   "cell_type": "code",
   "execution_count": 20,
   "metadata": {},
   "outputs": [
    {
     "name": "stdout",
     "output_type": "stream",
     "text": [
      "C:\\Users\\User\\Data pre-processing & visualization\n"
     ]
    }
   ],
   "source": [
    "print(os.getcwd())"
   ]
  },
  {
   "cell_type": "code",
   "execution_count": 21,
   "metadata": {},
   "outputs": [
    {
     "name": "stdout",
     "output_type": "stream",
     "text": [
      "['.ipynb_checkpoints', '02-hw-02.ipynb', '1 урок.ipynb', '1.ipynb', '10 урок.ipynb', '11 урок.ipynb', '13 урок.ipynb', '2 урок.ipynb', '3 урок.ipynb', 'ALMAU_university.csv', 'cleaned_synthetic_data.csv', 'example.csv', 'example1.csv', 'example2.csv', 'init (1).py', 'numpy_01.ipynb', 'result_11.csv', 'scrubbed (1).csv', 'scrubbed.csv', 'Social_Network_Ads.csv', 'synthetic_data.csv', 'synthetic_data_2.csv', 'synthetic_data_3.csv', 'test_2', 'thd_nparr.bin', 'для просмотра практика 0.ipynb', 'Задача для практики №0.ipynb', 'задача для практики №1.ipynb', 'урок 6.ipynb', 'урок 7.ipynb', 'урок 8.ipynb', 'урок 9.ipynb']\n"
     ]
    }
   ],
   "source": [
    "print(os.listdir())"
   ]
  },
  {
   "cell_type": "code",
   "execution_count": 57,
   "metadata": {},
   "outputs": [
    {
     "name": "stdout",
     "output_type": "stream",
     "text": [
      "['id', 'gender', 'nationality', 'city', 'data of birth']\n",
      "['1', '(male)', '[Kazakhstan]', 'Aktobe', '1990']\n",
      "['2', 'Female', 'russia', 'moscow', '1956-1957']\n",
      "['3', 'male', 'kazakhstan', 'astana', '2001']\n",
      "['4', 'FEMALE', 'Kazakhstan', 'nur-sultan', '2019']\n",
      "['5', '   male', 'Russia', 'Saint Petersburg', '1999']\n",
      "['6', 'female)', 'ukraine', 'Kiev', '1989']\n",
      "['7', '', 'kazakhstan', 'almaty', '2008']\n",
      "['8', 'Male', 'korea', 'pusan', '1999']\n",
      "['9', '(female)', 'korea', 'busan', '1980']\n"
     ]
    }
   ],
   "source": [
    "with open('synthetic_data.csv', 'r') as file:\n",
    "    csv_data = csv.reader(file)\n",
    "    data = list(csv_data)\n",
    "    for row in data:\n",
    "        print(row)"
   ]
  },
  {
   "cell_type": "code",
   "execution_count": 58,
   "metadata": {},
   "outputs": [],
   "source": [
    "# for index, row in enumerate(data):\n",
    "#     if row[3] == 'astana':\n",
    "#         data[index] = 'nur-sultan'\n",
    "#     elif row[3] == 'pusan':\n",
    "#         data[index] = 'busan'"
   ]
  },
  {
   "cell_type": "code",
   "execution_count": 59,
   "metadata": {},
   "outputs": [],
   "source": [
    "def clean(text, isTitle = False, isAvg = False, sep = '-'):\n",
    "    \n",
    "    text = text.strip()\n",
    "    text = text.replace('(', '')\n",
    "    \n",
    "    text = text.replace(')', '')\n",
    "    text = text.replace('[', '')\n",
    "    text = text.replace(']', '')\n",
    "    \n",
    "    if row[1]=='':\n",
    "        row[1]='None information'\n",
    "    \n",
    "    if isTitle:\n",
    "        text = text.title()\n",
    "    else:\n",
    "        text = text.lower()\n",
    "        \n",
    "    if isAvg:\n",
    "        text = text.split(sep)\n",
    "        text = round(sum([int(item) for item in text]) / len(text))\n",
    "    \n",
    "    return text"
   ]
  },
  {
   "cell_type": "code",
   "execution_count": 60,
   "metadata": {},
   "outputs": [],
   "source": [
    "for index, row in enumerate(data[1:]):\n",
    "    data[index+1][1] = clean(row[1])\n",
    "    data[index+1][2] = clean(row[2], isTitle = True)\n",
    "    data[index+1][3] = clean(row[3], isTitle = True)\n",
    "    data[index+1][4] = clean(row[4], isAvg = True)"
   ]
  },
  {
   "cell_type": "code",
   "execution_count": 61,
   "metadata": {},
   "outputs": [
    {
     "name": "stdout",
     "output_type": "stream",
     "text": [
      "['id', 'gender', 'nationality', 'city', 'data of birth']\n",
      "['1', 'male', 'Kazakhstan', 'Aktobe', 1990]\n",
      "['2', 'female', 'Russia', 'Moscow', 1956]\n",
      "['3', 'male', 'Kazakhstan', 'Astana', 2001]\n",
      "['4', 'female', 'Kazakhstan', 'Nur-Sultan', 2019]\n",
      "['5', 'male', 'Russia', 'Saint Petersburg', 1999]\n",
      "['6', 'female', 'Ukraine', 'Kiev', 1989]\n",
      "['7', 'None information', 'Kazakhstan', 'Almaty', 2008]\n",
      "['8', 'male', 'Korea', 'Pusan', 1999]\n",
      "['9', 'female', 'Korea', 'Busan', 1980]\n"
     ]
    }
   ],
   "source": [
    "for row in data:\n",
    "    print(row)"
   ]
  },
  {
   "cell_type": "code",
   "execution_count": 62,
   "metadata": {},
   "outputs": [],
   "source": [
    "with open('cleaned_synthetic_data.csv', 'w', newline = '') as file:\n",
    "    csv_file = csv.writer(file)\n",
    "    for row in data:\n",
    "        csv_file.writerow(row)\n",
    "    "
   ]
  },
  {
   "cell_type": "code",
   "execution_count": 63,
   "metadata": {},
   "outputs": [
    {
     "name": "stdout",
     "output_type": "stream",
     "text": [
      "['id', 'gender', 'nationality', 'city', 'data of birth']\n",
      "['1', 'male', 'Kazakhstan', 'Aktobe', '1990']\n",
      "['2', 'female', 'Russia', 'Moscow', '1956']\n",
      "['3', 'male', 'Kazakhstan', 'Astana', '2001']\n",
      "['4', 'female', 'Kazakhstan', 'Nur-Sultan', '2019']\n",
      "['5', 'male', 'Russia', 'Saint Petersburg', '1999']\n",
      "['6', 'female', 'Ukraine', 'Kiev', '1989']\n",
      "['7', 'None information', 'Kazakhstan', 'Almaty', '2008']\n",
      "['8', 'male', 'Korea', 'Pusan', '1999']\n",
      "['9', 'female', 'Korea', 'Busan', '1980']\n"
     ]
    }
   ],
   "source": [
    "with open('cleaned_synthetic_data.csv', 'r') as file:\n",
    "    csv_data = csv.reader(file)\n",
    "    data = list(csv_data)\n",
    "    for row in data:\n",
    "        print(row)"
   ]
  }
 ],
 "metadata": {
  "kernelspec": {
   "display_name": "Python 3",
   "language": "python",
   "name": "python3"
  },
  "language_info": {
   "codemirror_mode": {
    "name": "ipython",
    "version": 3
   },
   "file_extension": ".py",
   "mimetype": "text/x-python",
   "name": "python",
   "nbconvert_exporter": "python",
   "pygments_lexer": "ipython3",
   "version": "3.6.13"
  }
 },
 "nbformat": 4,
 "nbformat_minor": 2
}
