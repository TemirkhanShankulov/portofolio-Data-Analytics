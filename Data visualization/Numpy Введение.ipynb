{
 "cells": [
  {
   "cell_type": "markdown",
   "metadata": {},
   "source": [
    "### NumPy: Введение (Часть 2) [Домашнее задание]\n",
    "\n",
    "> **Пожалуйста, избегайте использования одномерных массивов numpy.ndarray.**\n",
    "> **Пишите код только там, где это показано для записи. Не удаляйте комментарии!**"
   ]
  },
  {
   "cell_type": "markdown",
   "metadata": {},
   "source": [
    "1. Импортируйте пакет NumPy"
   ]
  },
  {
   "cell_type": "code",
   "execution_count": 2,
   "metadata": {},
   "outputs": [
    {
     "name": "stdout",
     "output_type": "stream",
     "text": [
      "1.19.5\n"
     ]
    }
   ],
   "source": [
    "# Начало вашего кода\n",
    "import numpy as np\n",
    "# Конец вашего кода\n",
    "print(np.__version__)"
   ]
  },
  {
   "cell_type": "markdown",
   "metadata": {},
   "source": [
    "### Ожидаемый результат\n",
    "```\n",
    "1.17.4\n",
    "```"
   ]
  },
  {
   "cell_type": "markdown",
   "metadata": {},
   "source": [
    "2. Создайте двумерный numpy.ndarray **numbers**, где первая строка содержит четные числа от 0 до 10, а вторая строка содержит нечетные числа от 0 до 10 (10 не учитывается в обоих случаях)."
   ]
  },
  {
   "cell_type": "code",
   "execution_count": 3,
   "metadata": {},
   "outputs": [
    {
     "name": "stdout",
     "output_type": "stream",
     "text": [
      "[[0 2 4 6 8]\n",
      " [1 3 5 7 9]]\n"
     ]
    }
   ],
   "source": [
    "# Начало вашего кода\n",
    "even = []\n",
    "odd = []\n",
    "numbers = []\n",
    "for i in range(0,10):\n",
    "    if i%2==0:\n",
    "        even.append(i)\n",
    "    else:\n",
    "        odd.append(i)\n",
    "numbers = [even,odd]\n",
    "numbers_np = np.array(numbers)\n",
    "# Конец вашего кода\n",
    "print(numbers_np)"
   ]
  },
  {
   "cell_type": "markdown",
   "metadata": {},
   "source": [
    "### Ожидаемый результат\n",
    "```\n",
    "[[0 2 4 6 8]\n",
    " [1 3 5 7 9]]\n",
    "```"
   ]
  },
  {
   "cell_type": "markdown",
   "metadata": {},
   "source": [
    "3. Пожалуйста, проверьте все важные атрибуты (упомянутые в видео-лекции) для numpy.ndarray even_np и распечатайте их."
   ]
  },
  {
   "cell_type": "code",
   "execution_count": 4,
   "metadata": {},
   "outputs": [
    {
     "name": "stdout",
     "output_type": "stream",
     "text": [
      "2\n",
      "(2, 5)\n",
      "10\n",
      "int32\n",
      "[[0 1]\n",
      " [2 3]\n",
      " [4 5]\n",
      " [6 7]\n",
      " [8 9]]\n"
     ]
    }
   ],
   "source": [
    "# Начало вашего кода\n",
    "print(numbers_np.ndim)\n",
    "print(numbers_np.shape)\n",
    "print(numbers_np.size)\n",
    "print(numbers_np.dtype)\n",
    "\n",
    "numbers_np_2 = numbers_np.transpose()\n",
    "print(numbers_np_2)\n",
    "# Конец вашего кода"
   ]
  },
  {
   "cell_type": "markdown",
   "metadata": {},
   "source": [
    "### Ожидаемый результат\n",
    "```\n",
    "2\n",
    "(2, 5)\n",
    "10\n",
    "int64\n",
    "[[0 1]\n",
    " [2 3]\n",
    " [4 5]\n",
    " [6 7]\n",
    " [8 9]]\n",
    "```"
   ]
  },
  {
   "cell_type": "markdown",
   "metadata": {},
   "source": [
    "4. Найдите максимальное, минимальное, среднее, стандартное отклонение, используя методы numpy.ndarray."
   ]
  },
  {
   "cell_type": "code",
   "execution_count": 5,
   "metadata": {},
   "outputs": [
    {
     "name": "stdout",
     "output_type": "stream",
     "text": [
      "9\n",
      "0\n",
      "4.5\n",
      "2.8722813232690143\n"
     ]
    }
   ],
   "source": [
    "# Начало вашего кода\n",
    "overall_max = numbers_np.max()\n",
    "overall_min = numbers_np.min()\n",
    "overall_mean = numbers_np.mean()\n",
    "overall_std = numbers_np.std()\n",
    "\n",
    "# Конец вашего кода\n",
    "print(overall_max)\n",
    "print(overall_min)\n",
    "print(overall_mean)\n",
    "print(overall_std)"
   ]
  },
  {
   "cell_type": "markdown",
   "metadata": {},
   "source": [
    "### Ожидаемый результат\n",
    "```\n",
    "9\n",
    "0\n",
    "4.5\n",
    "2.8722813232690143\n",
    "```"
   ]
  },
  {
   "cell_type": "markdown",
   "metadata": {},
   "source": [
    "5. Найдите максимальное, минимальное, среднее, стандартное отклонение, используя методы numpy.ndarray для каждого **столбца**."
   ]
  },
  {
   "cell_type": "code",
   "execution_count": 6,
   "metadata": {},
   "outputs": [
    {
     "name": "stdout",
     "output_type": "stream",
     "text": [
      "[[0 1]\n",
      " [2 3]\n",
      " [4 5]\n",
      " [6 7]\n",
      " [8 9]]\n"
     ]
    }
   ],
   "source": [
    "print(numbers_np_2)"
   ]
  },
  {
   "cell_type": "code",
   "execution_count": 16,
   "metadata": {},
   "outputs": [
    {
     "name": "stdout",
     "output_type": "stream",
     "text": [
      "[1 3 5 7 9]\n",
      "[0 2 4 6 8]\n",
      "[0.5 2.5 4.5 6.5 8.5]\n",
      "[0.5 0.5 0.5 0.5 0.5]\n"
     ]
    }
   ],
   "source": [
    "# Начало вашего кода\n",
    "col_max = numbers_np_2.max(axis=1) \n",
    "\n",
    "col_min = numbers_np_2.min(axis=1) \n",
    "    \n",
    "col_mean = numbers_np_2.mean(axis=1) \n",
    "\n",
    "col_std = numbers_np_2.std(axis=1) \n",
    "    \n",
    "# Конец вашего кода\n",
    "print(col_max)\n",
    "print(col_min)\n",
    "print(col_mean)\n",
    "print(col_std)"
   ]
  },
  {
   "cell_type": "markdown",
   "metadata": {},
   "source": [
    "### Ожидаемый результат\n",
    "```\n",
    "[[1 3 5 7 9]]\n",
    "[[0 2 4 6 8]]\n",
    "[[0.5 2.5 4.5 6.5 8.5]]\n",
    "[[0.5 0.5 0.5 0.5 0.5]]\n",
    "```"
   ]
  },
  {
   "cell_type": "markdown",
   "metadata": {},
   "source": [
    "6. Найдите максимальное, минимальное, среднее, стандартное отклонение, используя методы numpy.ndarray для каждой **строки**."
   ]
  },
  {
   "cell_type": "code",
   "execution_count": 17,
   "metadata": {},
   "outputs": [
    {
     "name": "stdout",
     "output_type": "stream",
     "text": [
      "[[8]\n",
      " [9]]\n",
      "[[0]\n",
      " [1]]\n",
      "[[4.]\n",
      " [5.]]\n",
      "[[2.82842712]\n",
      " [2.82842712]]\n"
     ]
    }
   ],
   "source": [
    "# Начало вашего кода\n",
    "\n",
    "row_max = np.max(numbers_np, axis = 1, keepdims=True)\n",
    "\n",
    "    \n",
    "row_min = np.min(numbers_np, axis = 1, keepdims=True)\n",
    "\n",
    "\n",
    "row_mean = np.mean(numbers_np, axis = 1, keepdims=True)\n",
    "\n",
    "row_std = np.std(numbers_np, axis = 1, keepdims=True)\n",
    "# Конец вашего кода\n",
    "print(row_max)\n",
    "print(row_min)\n",
    "print(row_mean)\n",
    "print(row_std)"
   ]
  },
  {
   "cell_type": "markdown",
   "metadata": {},
   "source": [
    "### Ожидаемый результат\n",
    "```\n",
    "[[8]\n",
    " [9]]\n",
    "[[0]\n",
    " [1]]\n",
    "[[4.]\n",
    " [5.]]\n",
    "[[2.82842712]\n",
    " [2.82842712]]\n",
    "```"
   ]
  },
  {
   "cell_type": "markdown",
   "metadata": {},
   "source": [
    "7. Создайте объект numpy.ndarray из списка list_of_lists, приведенного ниже. Кроме того, рассчитать среднее значение и стандартное отклонение по всем осям."
   ]
  },
  {
   "cell_type": "code",
   "execution_count": 19,
   "metadata": {},
   "outputs": [
    {
     "name": "stdout",
     "output_type": "stream",
     "text": [
      "[[[ 1  2]\n",
      "  [ 3  4]]\n",
      "\n",
      " [[21 22]\n",
      "  [23 24]]]\n"
     ]
    }
   ],
   "source": [
    "list_of_lists = [[[1,2],[3,4]],[[21,22],[23,24]]]\n",
    "# Начало вашего кода\n",
    "thd_nparr = np.array(list_of_lists)\n",
    "# Конец вашего кода\n",
    "print(thd_nparr)"
   ]
  },
  {
   "cell_type": "markdown",
   "metadata": {},
   "source": [
    "### Ожидаемый результат\n",
    "```\n",
    "[[[ 1  2]\n",
    "  [ 3  4]]\n",
    "\n",
    " [[21 22]\n",
    "  [23 24]]]\n",
    "```"
   ]
  },
  {
   "cell_type": "code",
   "execution_count": 21,
   "metadata": {},
   "outputs": [
    {
     "name": "stdout",
     "output_type": "stream",
     "text": [
      "Mean with respect to 0-axis\n",
      "[[11. 12.]\n",
      " [13. 14.]]\n",
      "STD with respect to 0-axis\n",
      "[[10. 10.]\n",
      " [10. 10.]]\n",
      "Mean with respect to 1-axis\n",
      "[[ 2.  3.]\n",
      " [22. 23.]]\n",
      "STD with respect to 1-axis\n",
      "[[1. 1.]\n",
      " [1. 1.]]\n",
      "Mean with respect to 2-axis\n",
      "[[[ 1.5]\n",
      "  [ 3.5]]\n",
      "\n",
      " [[21.5]\n",
      "  [23.5]]]\n",
      "STD with respect to 2-axis\n",
      "[[[0.5]\n",
      "  [0.5]]\n",
      "\n",
      " [[0.5]\n",
      "  [0.5]]]\n"
     ]
    }
   ],
   "source": [
    "# Начало вашего кода\n",
    "result_1 = thd_nparr.mean(axis=0)\n",
    "print('Mean with respect to 0-axis')\n",
    "print(result_1)\n",
    "\n",
    "result_1 = thd_nparr.std(axis=0)\n",
    "print('STD with respect to 0-axis')\n",
    "print(result_1)\n",
    "\n",
    "\n",
    "\n",
    "result_2 = thd_nparr.mean(axis=1)\n",
    "print('Mean with respect to 1-axis')\n",
    "print(result_2)\n",
    "\n",
    "result_2 = thd_nparr.std(axis=1)\n",
    "print('STD with respect to 1-axis')\n",
    "print(result_2)\n",
    "\n",
    "\n",
    "\n",
    "\n",
    "result_3 = thd_nparr.mean(axis=2, keepdims=True)\n",
    "print('Mean with respect to 2-axis')\n",
    "print(result_3)\n",
    "\n",
    "result_3 = thd_nparr.std(axis=2, keepdims=True)\n",
    "print('STD with respect to 2-axis')\n",
    "print(result_3)\n",
    "\n"
   ]
  },
  {
   "cell_type": "markdown",
   "metadata": {},
   "source": [
    "### Ожидаемый результат\n",
    "```\n",
    "Mean with respect to 0-axis\n",
    "[[[11. 12.]\n",
    "  [13. 14.]]]\n",
    "STD with respect to 0-axis\n",
    "[[[10. 10.]\n",
    "  [10. 10.]]]\n",
    "\n",
    "\n",
    "Mean with respect to 1-axis\n",
    "[[[ 2.  3.]]\n",
    "\n",
    " [[22. 23.]]]\n",
    "STD with respect to 1-axis\n",
    "[[[1. 1.]]\n",
    "\n",
    " [[1. 1.]]]\n",
    "\n",
    "\n",
    "Mean with respect to 2-axis\n",
    "[[[ 1.5]\n",
    "  [ 3.5]]\n",
    "\n",
    " [[21.5]\n",
    "  [23.5]]]\n",
    "STD with respect to 2-axis\n",
    "[[[0.5]\n",
    "  [0.5]]\n",
    "\n",
    " [[0.5]\n",
    "  [0.5]]]\n",
    "```"
   ]
  },
  {
   "cell_type": "markdown",
   "metadata": {},
   "source": [
    "8. Пожалуйста, предоставьте применение следующих методов numpy.ndarray ниже:"
   ]
  },
  {
   "cell_type": "code",
   "execution_count": 12,
   "metadata": {},
   "outputs": [
    {
     "name": "stdout",
     "output_type": "stream",
     "text": [
      "[[[ 1 21]\n",
      "  [ 3 23]]\n",
      "\n",
      " [[ 2 22]\n",
      "  [ 4 24]]]\n"
     ]
    }
   ],
   "source": [
    "# ndarray.reshape()\n",
    "# Начало вашего кода\n",
    "thd_nparr_2 = thd_nparr.transpose()\n",
    "print(thd_nparr_2)\n",
    "# Конец вашего кода"
   ]
  },
  {
   "cell_type": "code",
   "execution_count": 13,
   "metadata": {},
   "outputs": [
    {
     "name": "stdout",
     "output_type": "stream",
     "text": [
      "[ 1  2  3  4 21 22 23 24]\n"
     ]
    }
   ],
   "source": [
    "# ndarray.ravel()\n",
    "# Начало вашего кода\n",
    "thd_nparr_2 = thd_nparr.ravel()\n",
    "print(thd_nparr_2)\n",
    "# Конец вашего кода"
   ]
  },
  {
   "cell_type": "code",
   "execution_count": 17,
   "metadata": {},
   "outputs": [
    {
     "name": "stdout",
     "output_type": "stream",
     "text": [
      "[[[1, 2], [3, 4]], [[21, 22], [23, 24]]]\n"
     ]
    }
   ],
   "source": [
    "# ndarray.tolist()\n",
    "# Начало вашего кода\n",
    "thd_nparr_2 = thd_nparr.tolist()\n",
    "print(thd_nparr_2)\n",
    "# Конец вашего кода"
   ]
  },
  {
   "cell_type": "code",
   "execution_count": 40,
   "metadata": {},
   "outputs": [
    {
     "data": {
      "text/plain": [
       "array([4.24399158e-314, 8.48798317e-314, 4.66839074e-313, 5.09278990e-313])"
      ]
     },
     "execution_count": 40,
     "metadata": {},
     "output_type": "execute_result"
    }
   ],
   "source": [
    "# ndarray.tofile()\n",
    "# Начало вашего кода\n",
    "thd_nparr.tofile('thd_nparr.bin')\n",
    "a = np.fromfile('thd_nparr.bin', dtype=np.float)\n",
    "a\n",
    "# Конец вашего кода"
   ]
  },
  {
   "cell_type": "code",
   "execution_count": 44,
   "metadata": {},
   "outputs": [
    {
     "data": {
      "text/plain": [
       "array([[[ 1,  2],\n",
       "        [ 3,  4]],\n",
       "\n",
       "       [[21, 22],\n",
       "        [23, 24]]])"
      ]
     },
     "execution_count": 44,
     "metadata": {},
     "output_type": "execute_result"
    }
   ],
   "source": [
    "# ndarray.sort()\n",
    "# Начало вашего кода\n",
    "a = np.array(thd_nparr)\n",
    "a.sort(axis=1)\n",
    "a\n",
    "\n",
    "# Конец вашего кода"
   ]
  },
  {
   "cell_type": "code",
   "execution_count": 26,
   "metadata": {},
   "outputs": [
    {
     "name": "stdout",
     "output_type": "stream",
     "text": [
      "[[[ 1 21]\n",
      "  [ 3 23]]\n",
      "\n",
      " [[ 2 22]\n",
      "  [ 4 24]]]\n"
     ]
    }
   ],
   "source": [
    "# ndarray.transpose()\n",
    "# Начало вашего кода\n",
    "thd_nparr_2 = thd_nparr.transpose()\n",
    "print(thd_nparr_2)\n",
    "# Конец вашего кода"
   ]
  },
  {
   "cell_type": "code",
   "execution_count": 27,
   "metadata": {},
   "outputs": [
    {
     "name": "stdout",
     "output_type": "stream",
     "text": [
      "[ 1  2  3  4 21 22 23 24]\n"
     ]
    }
   ],
   "source": [
    "# ndarray.flatten()\n",
    "# Начало вашего кода\n",
    "thd_nparr_2 = thd_nparr.flatten()\n",
    "print(thd_nparr_2)\n",
    "# Конец вашего кода"
   ]
  },
  {
   "cell_type": "code",
   "execution_count": 28,
   "metadata": {},
   "outputs": [
    {
     "name": "stdout",
     "output_type": "stream",
     "text": [
      "0\n"
     ]
    }
   ],
   "source": [
    "# ndarray.argmin()\n",
    "# Начало вашего кода\n",
    "thd_nparr_2 = thd_nparr.argmin()\n",
    "print(thd_nparr_2)\n",
    "# Конец вашего кода"
   ]
  },
  {
   "cell_type": "code",
   "execution_count": 29,
   "metadata": {},
   "outputs": [
    {
     "name": "stdout",
     "output_type": "stream",
     "text": [
      "7\n"
     ]
    }
   ],
   "source": [
    "# ndarray.argmax()\n",
    "# Начало вашего кода\n",
    "thd_nparr_2 = thd_nparr.argmax()\n",
    "print(thd_nparr_2)\n",
    "# Конец вашего кода"
   ]
  },
  {
   "cell_type": "code",
   "execution_count": 30,
   "metadata": {},
   "outputs": [
    {
     "name": "stdout",
     "output_type": "stream",
     "text": [
      "[  1   3   6  10  31  53  76 100]\n"
     ]
    }
   ],
   "source": [
    "# ndarray.cumsum()\n",
    "# Начало вашего кода\n",
    "thd_nparr_2 = thd_nparr.cumsum()\n",
    "print(thd_nparr_2)\n",
    "# Конец вашего кода"
   ]
  },
  {
   "cell_type": "code",
   "execution_count": 31,
   "metadata": {},
   "outputs": [
    {
     "name": "stdout",
     "output_type": "stream",
     "text": [
      "[      1       2       6      24     504   11088  255024 6120576]\n"
     ]
    }
   ],
   "source": [
    "# ndarray.cumprod()\n",
    "# Начало вашего кода\n",
    "thd_nparr_2 = thd_nparr.cumprod()\n",
    "print(thd_nparr_2)\n",
    "# Конец вашего кода"
   ]
  },
  {
   "cell_type": "code",
   "execution_count": 56,
   "metadata": {},
   "outputs": [
    {
     "data": {
      "text/plain": [
       "30"
      ]
     },
     "execution_count": 56,
     "metadata": {},
     "output_type": "execute_result"
    }
   ],
   "source": [
    "# ndarray.dot()\n",
    "# Начало вашего кода\n",
    "np.dot([1,2,3],[2,5,6])\n",
    "\n",
    "# Конец вашего кода"
   ]
  },
  {
   "cell_type": "code",
   "execution_count": 33,
   "metadata": {},
   "outputs": [
    {
     "name": "stdout",
     "output_type": "stream",
     "text": [
      "[[[ 1  2]\n",
      "  [ 3  4]]\n",
      "\n",
      " [[21 22]\n",
      "  [23 24]]]\n"
     ]
    }
   ],
   "source": [
    "# ndarray.squeeze()\n",
    "# Начало вашего кода\n",
    "thd_nparr_2 = thd_nparr.squeeze()\n",
    "print(thd_nparr_2)\n",
    "# Конец вашего кода"
   ]
  },
  {
   "cell_type": "code",
   "execution_count": 60,
   "metadata": {},
   "outputs": [
    {
     "data": {
      "text/plain": [
       "array([ 1,  1,  2,  2,  3,  3,  4,  4, 21, 21, 22, 22, 23, 23, 24, 24])"
      ]
     },
     "execution_count": 60,
     "metadata": {},
     "output_type": "execute_result"
    }
   ],
   "source": [
    "# ndarray.repeat()\n",
    "# Начало вашего кода\n",
    "x = np.array([thd_nparr])\n",
    "np.repeat(x, 2)\n",
    "# Конец вашего кода"
   ]
  },
  {
   "cell_type": "markdown",
   "metadata": {},
   "source": [
    "# Прекрасная работа!"
   ]
  }
 ],
 "metadata": {
  "kernelspec": {
   "display_name": "Python 3",
   "language": "python",
   "name": "python3"
  },
  "language_info": {
   "codemirror_mode": {
    "name": "ipython",
    "version": 3
   },
   "file_extension": ".py",
   "mimetype": "text/x-python",
   "name": "python",
   "nbconvert_exporter": "python",
   "pygments_lexer": "ipython3",
   "version": "3.6.13"
  }
 },
 "nbformat": 4,
 "nbformat_minor": 2
}
