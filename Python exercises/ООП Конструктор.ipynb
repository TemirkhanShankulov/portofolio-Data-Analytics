{
 "cells": [
  {
   "cell_type": "markdown",
   "metadata": {},
   "source": [
    "### ООП: Конструктор [Домашнее задание]"
   ]
  },
  {
   "cell_type": "markdown",
   "metadata": {},
   "source": [
    "Создайте класс **Person**. Он должен содержать атрибут класса «count» (который покажет количество созданных объектов) и атрибуты экземпляра, такие как имя, фамилия, возраст, занятость, пол, национальность. Также определите методы, такие как **year_born(cur_year)**, **get_name()**, **get_nationality()**, **get_age()**, **get_occupation()**. Обратите внимание, что метод **year_born(cur_year)** возвращает год рождения человека. \n",
    "\n",
    "\n",
    "**Не забудьте использовать конструктор.**"
   ]
  },
  {
   "cell_type": "code",
   "execution_count": 92,
   "metadata": {},
   "outputs": [],
   "source": [
    "class Person:\n",
    "    # Начало вашего кода \n",
    "    count = 0\n",
    "    def __init__(self, name, family_name, age, occupation, nationality):\n",
    "        self.name = name\n",
    "        self.family_name = family_name\n",
    "        self.age = age\n",
    "        self.occupation = occupation\n",
    "        self.nationality = nationality\n",
    "        Person.count += 1\n",
    "        \n",
    "    def year_born(self, cur_year):\n",
    "        self.cur_year = cur_year\n",
    "        return self.cur_year - self.age\n",
    "        \n",
    "    \n",
    "    # Конец вашего кода\n",
    "    "
   ]
  },
  {
   "cell_type": "code",
   "execution_count": 93,
   "metadata": {},
   "outputs": [],
   "source": [
    "person1 = Person(name=\"Brad\", family_name=\"Pitt\", age=50, occupation=\"actor\", nationality=\"American\")"
   ]
  },
  {
   "cell_type": "code",
   "execution_count": 94,
   "metadata": {},
   "outputs": [],
   "source": [
    "year_born = person1.year_born(cur_year=2019)"
   ]
  },
  {
   "cell_type": "code",
   "execution_count": 95,
   "metadata": {},
   "outputs": [
    {
     "name": "stdout",
     "output_type": "stream",
     "text": [
      "Brad Pitt was born in 1969\n"
     ]
    }
   ],
   "source": [
    "print(person1.name,person1.family_name,\"was born in\",year_born)"
   ]
  },
  {
   "cell_type": "markdown",
   "metadata": {},
   "source": [
    "### Ожидаемый результат:\n",
    "```\n",
    "Brad Pitt was born in 1969\n",
    "```"
   ]
  },
  {
   "cell_type": "code",
   "execution_count": 96,
   "metadata": {},
   "outputs": [],
   "source": [
    "name = person1.name\n",
    "family_name = person1.family_name\n",
    "age = person1.age\n",
    "occupation = person1.occupation\n",
    "nationality = person1.nationality"
   ]
  },
  {
   "cell_type": "code",
   "execution_count": 97,
   "metadata": {},
   "outputs": [
    {
     "name": "stdout",
     "output_type": "stream",
     "text": [
      "1969\n",
      "Brad\n",
      "50\n",
      "American\n",
      "actor\n",
      "1\n"
     ]
    }
   ],
   "source": [
    "print(year_born)\n",
    "print(name)\n",
    "print(age)\n",
    "print(nationality)\n",
    "print(occupation)\n",
    "print(person1.count)"
   ]
  },
  {
   "cell_type": "markdown",
   "metadata": {},
   "source": [
    "### Ожидаемый результат:\n",
    "```\n",
    "1969\n",
    "Brad Pitt\n",
    "50\n",
    "American\n",
    "actor\n",
    "1\n",
    "```"
   ]
  },
  {
   "cell_type": "code",
   "execution_count": 98,
   "metadata": {},
   "outputs": [],
   "source": [
    "person2 = Person(name=\"Donald\", family_name=\"Trump\", age=70, occupation=\"president\", nationality=\"American\")"
   ]
  },
  {
   "cell_type": "code",
   "execution_count": 99,
   "metadata": {},
   "outputs": [],
   "source": [
    "year_born = person2.year_born(cur_year=2019)"
   ]
  },
  {
   "cell_type": "code",
   "execution_count": 100,
   "metadata": {},
   "outputs": [
    {
     "name": "stdout",
     "output_type": "stream",
     "text": [
      "Donald Trump was born in 1949\n"
     ]
    }
   ],
   "source": [
    "print(person2.name,person2.family_name,\"was born in\",year_born)"
   ]
  },
  {
   "cell_type": "markdown",
   "metadata": {},
   "source": [
    "### Ожидаемый результат:\n",
    "```\n",
    "Donald Trump was born in 1949\n",
    "```"
   ]
  },
  {
   "cell_type": "code",
   "execution_count": 101,
   "metadata": {},
   "outputs": [],
   "source": [
    "name = person2.name\n",
    "family_name = person2.family_name\n",
    "age = person2.age\n",
    "occupation = person2.occupation\n",
    "nationality = person2.nationality"
   ]
  },
  {
   "cell_type": "code",
   "execution_count": 102,
   "metadata": {},
   "outputs": [
    {
     "name": "stdout",
     "output_type": "stream",
     "text": [
      "1949\n",
      "Donald\n",
      "70\n",
      "American\n",
      "president\n",
      "2\n"
     ]
    }
   ],
   "source": [
    "print(year_born)\n",
    "print(name)\n",
    "print(age)\n",
    "print(nationality)\n",
    "print(occupation)\n",
    "print(person1.count)"
   ]
  },
  {
   "cell_type": "markdown",
   "metadata": {},
   "source": [
    "### Ожидаемый результат:\n",
    "```\n",
    "1949\n",
    "Donald Trump\n",
    "70\n",
    "American\n",
    "president\n",
    "2\n",
    "```"
   ]
  }
 ],
 "metadata": {
  "kernelspec": {
   "display_name": "Python 3 (ipykernel)",
   "language": "python",
   "name": "python3"
  },
  "language_info": {
   "codemirror_mode": {
    "name": "ipython",
    "version": 3
   },
   "file_extension": ".py",
   "mimetype": "text/x-python",
   "name": "python",
   "nbconvert_exporter": "python",
   "pygments_lexer": "ipython3",
   "version": "3.9.7"
  }
 },
 "nbformat": 4,
 "nbformat_minor": 2
}
