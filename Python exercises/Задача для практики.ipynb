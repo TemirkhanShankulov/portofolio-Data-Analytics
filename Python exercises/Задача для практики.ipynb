{
 "cells": [
  {
   "cell_type": "markdown",
   "metadata": {},
   "source": [
    "1) Используйте for, .split() и if для создания оператора, который будет печатать слова, начинающиеся с 't':"
   ]
  },
  {
   "cell_type": "code",
   "execution_count": 26,
   "metadata": {},
   "outputs": [
    {
     "name": "stdout",
     "output_type": "stream",
     "text": [
      "the\n",
      "that\n",
      "t\n",
      "this\n"
     ]
    }
   ],
   "source": [
    "st = 'Print only the words that start with t in this sentence'\n",
    "# Код\n",
    "new_list = st.split()\n",
    "for i in new_list:\n",
    "    if i[0]=='t':\n",
    "        print(i)"
   ]
  },
  {
   "cell_type": "markdown",
   "metadata": {},
   "source": [
    "2) Используйте range() для печати всех четных чисел от 0 до 10.(не использовать операторы for, while,if)"
   ]
  },
  {
   "cell_type": "code",
   "execution_count": 8,
   "metadata": {},
   "outputs": [
    {
     "name": "stdout",
     "output_type": "stream",
     "text": [
      "[0, 2, 4, 6, 8, 10]\n"
     ]
    }
   ],
   "source": [
    "# Код\n",
    "\n",
    "print(list(range(0,10+1,2)))"
   ]
  },
  {
   "cell_type": "markdown",
   "metadata": {},
   "source": [
    "3) Cоздайте **список** всех чисел от 1 до 50, которые делятся на 3.(именно список)"
   ]
  },
  {
   "cell_type": "code",
   "execution_count": 9,
   "metadata": {},
   "outputs": [
    {
     "data": {
      "text/plain": [
       "[3, 6, 9, 12, 15, 18, 21, 24, 27, 30, 33, 36, 39, 42, 45, 48]"
      ]
     },
     "execution_count": 9,
     "metadata": {},
     "output_type": "execute_result"
    }
   ],
   "source": [
    "# Код\n",
    "data = []\n",
    "for i in range(1,50):\n",
    "    if i%3==0:\n",
    "        data.append(i)\n",
    "data"
   ]
  },
  {
   "cell_type": "markdown",
   "metadata": {},
   "source": [
    "4) Просмотрите строку ниже и, если длина слова четная, выведите «четное!»"
   ]
  },
  {
   "cell_type": "code",
   "execution_count": 34,
   "metadata": {},
   "outputs": [
    {
     "name": "stdout",
     "output_type": "stream",
     "text": [
      "Четное! =  word\n",
      "Четное! =  in\n",
      "Четное! =  this\n",
      "Четное! =  sentence\n",
      "Четное! =  that\n",
      "Четное! =  an\n",
      "Четное! =  even\n",
      "Четное! =  number\n",
      "Четное! =  of\n"
     ]
    }
   ],
   "source": [
    "st = 'Print every word in this sentence that has an even number of letters'\n",
    "# Код\n",
    "new_list = st.split()\n",
    "for i in new_list:\n",
    "    if len(i)%2==0:\n",
    "        print('Четное! = ', i)"
   ]
  },
  {
   "cell_type": "markdown",
   "metadata": {},
   "source": [
    "5) Создайте список первых букв каждого слова в строке ниже:"
   ]
  },
  {
   "cell_type": "code",
   "execution_count": 54,
   "metadata": {},
   "outputs": [
    {
     "name": "stdout",
     "output_type": "stream",
     "text": [
      "['C', 'a', 'l', 'o', 't', 'f', 'l', 'o', 'e', 'w', 'i', 't', 's']\n"
     ]
    }
   ],
   "source": [
    "st = 'Create a list of the first letters of every word in this string'\n",
    "# Код\n",
    "data = []\n",
    "new_list = st.split()\n",
    "for i in new_list:\n",
    "    data.append(i[0])\n",
    "print(data)\n"
   ]
  },
  {
   "cell_type": "markdown",
   "metadata": {},
   "source": [
    "6) Найдите сумму чисел в списке ниже: (с двумя способами)"
   ]
  },
  {
   "cell_type": "code",
   "execution_count": 58,
   "metadata": {},
   "outputs": [
    {
     "name": "stdout",
     "output_type": "stream",
     "text": [
      "55\n"
     ]
    }
   ],
   "source": [
    "l = [1,2,3,4,5,6,7,8,9,10]\n",
    "# Код 1\n",
    "res = 0\n",
    "for i in l:\n",
    "    res = res + i\n",
    "    \n",
    "print(res)"
   ]
  },
  {
   "cell_type": "code",
   "execution_count": 3,
   "metadata": {},
   "outputs": [
    {
     "name": "stdout",
     "output_type": "stream",
     "text": [
      "55\n"
     ]
    }
   ],
   "source": [
    "l = [1,2,3,4,5,6,7,8,9,10]\n",
    "# Код 2\n",
    "result = 0\n",
    "result = sum(l)\n",
    "print(result)"
   ]
  },
  {
   "cell_type": "markdown",
   "metadata": {},
   "source": [
    "7) Напишите программу на Python, чтобы умножить все элементы в списке."
   ]
  },
  {
   "cell_type": "code",
   "execution_count": 6,
   "metadata": {},
   "outputs": [
    {
     "name": "stdout",
     "output_type": "stream",
     "text": [
      "1890\n"
     ]
    }
   ],
   "source": [
    "l = [2,5,7,3,9]\n",
    "# Код\n",
    "mult = 1\n",
    "for i in l:\n",
    "    mult = mult * i\n",
    "print(mult)"
   ]
  },
  {
   "cell_type": "markdown",
   "metadata": {},
   "source": [
    "8) Напишите программу на Python, чтобы получить наибольшее число из списка."
   ]
  },
  {
   "cell_type": "code",
   "execution_count": 8,
   "metadata": {},
   "outputs": [
    {
     "name": "stdout",
     "output_type": "stream",
     "text": [
      "101\n"
     ]
    }
   ],
   "source": [
    "l = [2,5,7,3,9,11,50,101]\n",
    "# Код\n",
    "print(max(l))"
   ]
  },
  {
   "cell_type": "markdown",
   "metadata": {},
   "source": [
    "9) Напишите программу на Python, чтобы найти общие элементы из двух списков."
   ]
  },
  {
   "cell_type": "code",
   "execution_count": 12,
   "metadata": {},
   "outputs": [
    {
     "name": "stdout",
     "output_type": "stream",
     "text": [
      "Darkhan\n",
      "Azamat\n"
     ]
    }
   ],
   "source": [
    "team_1 = [\"Darkhan\", \"Abilay\", \"Azamat\", \"Zhasulan\"]\n",
    "team_2 = [\"Azamat\", \"Darkhan\", \"Aset\", \"Bolat\",\"Saken\"]\n",
    "# Код\n",
    "for i in team_1:\n",
    "    for j in team_2:\n",
    "        if i == j:\n",
    "            print(j)"
   ]
  },
  {
   "cell_type": "markdown",
   "metadata": {},
   "source": [
    "10) Напишите программу на Python для расширения списка без .append()."
   ]
  },
  {
   "cell_type": "code",
   "execution_count": 11,
   "metadata": {},
   "outputs": [
    {
     "data": {
      "text/plain": [
       "[10, 20, 30, 1, 2, 3, 4, 5, 6]"
      ]
     },
     "execution_count": 11,
     "metadata": {},
     "output_type": "execute_result"
    }
   ],
   "source": [
    "l_1 = [10,20,30]\n",
    "l_2 = [1,2,3,4,5,6]\n",
    "# Вывод должен быть: [10,20,30,1,2,3,4,5,6]\n",
    "# Код \n",
    "l_1.extend(l_2)\n",
    "l_1"
   ]
  },
  {
   "cell_type": "markdown",
   "metadata": {},
   "source": [
    "11) Напишите программу на Python для суммирования всех элементов в словаре."
   ]
  },
  {
   "cell_type": "code",
   "execution_count": 14,
   "metadata": {},
   "outputs": [
    {
     "name": "stdout",
     "output_type": "stream",
     "text": [
      "293\n"
     ]
    }
   ],
   "source": [
    "my_dict = {'data1':100,'data2':-54,'data3':247}\n",
    "# Код\n",
    "print(sum(my_dict.values()))\n"
   ]
  },
  {
   "cell_type": "markdown",
   "metadata": {},
   "source": [
    "12) Напишите программу на Python, чтобы получить максимальное и минимальное значение в словаре."
   ]
  },
  {
   "cell_type": "code",
   "execution_count": 12,
   "metadata": {},
   "outputs": [
    {
     "name": "stdout",
     "output_type": "stream",
     "text": [
      "247\n",
      "-54\n"
     ]
    }
   ],
   "source": [
    "my_dict = {'data1':100,'data2':-54,'data3':247}\n",
    "# Код\n",
    "print(max(my_dict.values()))\n",
    "print(min(my_dict.values()))"
   ]
  },
  {
   "cell_type": "markdown",
   "metadata": {},
   "source": [
    "13) Напишите программу на Python, чтобы найти те числа, которые делятся на 7 и кратны 5, между 1500 и 2700 (оба включены)."
   ]
  },
  {
   "cell_type": "code",
   "execution_count": 17,
   "metadata": {},
   "outputs": [
    {
     "name": "stdout",
     "output_type": "stream",
     "text": [
      "1505 1540 1575 1610 1645 1680 1715 1750 1785 1820 1855 1890 1925 1960 1995 2030 2065 2100 2135 2170 2205 2240 2275 2310 2345 2380 2415 2450 2485 2520 2555 2590 2625 2660 2695 "
     ]
    }
   ],
   "source": [
    "for i in range(1500,2700+1):\n",
    "    if i%7==0 and i%5==0:\n",
    "        print(i, end = ' ')"
   ]
  },
  {
   "cell_type": "markdown",
   "metadata": {},
   "source": [
    "14) Напишите программу на Python для подсчета количества четных и нечетных чисел из серии чисел."
   ]
  },
  {
   "cell_type": "code",
   "execution_count": 15,
   "metadata": {},
   "outputs": [
    {
     "name": "stdout",
     "output_type": "stream",
     "text": [
      "6\n",
      "5\n"
     ]
    }
   ],
   "source": [
    "numbers = (10,11,12,13,14,15,16,17,18,19,20)\n",
    "# Код\n",
    "even = 0\n",
    "odd = 0\n",
    "for i in numbers:\n",
    "    if i%2==0:\n",
    "        even = even + 1\n",
    "    elif i%2!=0:\n",
    "        odd = odd + 1\n",
    "print(even)\n",
    "print(odd)"
   ]
  },
  {
   "cell_type": "markdown",
   "metadata": {},
   "source": [
    "15) Напишите программу на Python, чтобы получить ряд Фибоначчи от 0 до 50."
   ]
  },
  {
   "cell_type": "code",
   "execution_count": 6,
   "metadata": {},
   "outputs": [
    {
     "name": "stdout",
     "output_type": "stream",
     "text": [
      "1\n",
      "1\n",
      "2\n",
      "3\n",
      "5\n",
      "8\n",
      "13\n",
      "21\n",
      "34\n"
     ]
    }
   ],
   "source": [
    "x,y=0,1\n",
    "while y<50:\n",
    "    print(y)\n",
    "    x,y = y,x+y"
   ]
  },
  {
   "cell_type": "markdown",
   "metadata": {},
   "source": [
    "16) Напишите программу на Python для расчета возраста собаки по собачьим годам.(Для заданного числа 12, вывод должен быть 61 = 2x10.5+10x4)\n",
    "\n",
    "**Примечание: в течение первых двух лет год собаки равен 10,5 человеческим годам. После этого каждый год собаки равен 4 человеческим годам.**"
   ]
  },
  {
   "cell_type": "code",
   "execution_count": 6,
   "metadata": {},
   "outputs": [
    {
     "name": "stdout",
     "output_type": "stream",
     "text": [
      "Человеческий год = 0\n",
      "Возраст собаки =  0.0\n"
     ]
    }
   ],
   "source": [
    "a = int(input('Человеческий год = '))\n",
    "if a<2:\n",
    "    m = a*10.5\n",
    "    print('Возраст собаки = ',m)\n",
    "else:\n",
    "    c = a-2\n",
    "    m = 2*10.5+c*4\n",
    "    print('Возраст собаки = ',m)"
   ]
  },
  {
   "cell_type": "markdown",
   "metadata": {},
   "source": [
    "17) Напишите программу на Python для преобразования названия месяца в количество дней."
   ]
  },
  {
   "cell_type": "code",
   "execution_count": 11,
   "metadata": {},
   "outputs": [
    {
     "name": "stdout",
     "output_type": "stream",
     "text": [
      "Название месяца = Oktober\n",
      "31\n"
     ]
    }
   ],
   "source": [
    "a = input('Название месяца = ')\n",
    "if a=='January' or a=='March' or a=='May' or a=='July' or a=='August' or a=='Oktober' or a=='December':\n",
    "    print('31')\n",
    "elif a=='April' or a=='June' or a=='September' or a=='November':\n",
    "    print('30')\n",
    "elif a=='February':\n",
    "    print('28 or 29')\n",
    "else:\n",
    "    print('Написали некорректное название!')"
   ]
  },
  {
   "cell_type": "markdown",
   "metadata": {},
   "source": [
    "18) Проверьте является ли слово палиндромом или нет. \n",
    "\n",
    "**Примечание: Строка считается палиндромом, если она читается одинаково в обоих направлениях.**"
   ]
  },
  {
   "cell_type": "code",
   "execution_count": 8,
   "metadata": {},
   "outputs": [
    {
     "name": "stdout",
     "output_type": "stream",
     "text": [
      "Palindrome\n"
     ]
    }
   ],
   "source": [
    "word = \"aibohphobia\"\n",
    "# Код\n",
    "data= \"aibohphobia\"[::-1]\n",
    "if word==data:\n",
    "    print('Palindrome')\n",
    "else:\n",
    "    print('Not palindrome')"
   ]
  },
  {
   "cell_type": "markdown",
   "metadata": {},
   "source": [
    "19) Рядом стоят несколько студентов, у каждого из которых написано какое-то число на спине. Учащиеся собираются разделиться на две команды, отсчитав их по две: те, кто стоит на четных позициях (на основе 0), перейдут в команду А, а те, кто стоит на нечетной позиции, присоединятся к команде В.\n",
    "\n",
    "Ваша задача - вычислить разницу между суммами чисел, написанными на спинах студентов, которые присоединятся к команде А, и теми, которые написаны на спинах студентов, которые присоединятся к команде Б."
   ]
  },
  {
   "cell_type": "code",
   "execution_count": 11,
   "metadata": {},
   "outputs": [
    {
     "name": "stdout",
     "output_type": "stream",
     "text": [
      "Команда А =  5\n",
      "Команда В =  7\n",
      "Разница между командами А и В =  2\n"
     ]
    }
   ],
   "source": [
    "students = [1, 11, 13, 6, 14, 10, 23, 25, 16, 23, 30, 9]\n",
    "# Код\n",
    "A = 0\n",
    "B = 0\n",
    "for i in students:\n",
    "    if i%2==0:\n",
    "        A = A + 1\n",
    "    elif i%2!=0:\n",
    "        B = B + 1\n",
    "print('Команда А = ',A)\n",
    "print('Команда В = ',B)\n",
    "if A>B:\n",
    "    dif = A-B\n",
    "    print('Разница между команда А и В = ', dif)\n",
    "else:\n",
    "    dif = B-A\n",
    "    print('Разница между командами А и В = ', dif)"
   ]
  },
  {
   "cell_type": "markdown",
   "metadata": {},
   "source": [
    "20) Напишите программу на Python, чтобы найти числа от 100 до 400 (оба включены), где каждая цифра числа является четным числом. Полученные числа должны быть напечатаны в последовательности через запятую."
   ]
  },
  {
   "cell_type": "code",
   "execution_count": 6,
   "metadata": {},
   "outputs": [
    {
     "name": "stdout",
     "output_type": "stream",
     "text": [
      "200,202,204,206,208,220,222,224,226,228,240,242,244,246,248,260,262,264,266,268,280,282,284,286,288,400\n"
     ]
    }
   ],
   "source": [
    "items = []\n",
    "for i in range(100, 401):\n",
    "    s = str(i)\n",
    "    if (int(s[0])%2==0) and (int(s[1])%2==0) and (int(s[2])%2==0):\n",
    "        items.append(s)\n",
    "print( \",\".join(items))    "
   ]
  },
  {
   "cell_type": "markdown",
   "metadata": {},
   "source": [
    "# Прекрасная работа!"
   ]
  }
 ],
 "metadata": {
  "kernelspec": {
   "display_name": "Python 3 (ipykernel)",
   "language": "python",
   "name": "python3"
  },
  "language_info": {
   "codemirror_mode": {
    "name": "ipython",
    "version": 3
   },
   "file_extension": ".py",
   "mimetype": "text/x-python",
   "name": "python",
   "nbconvert_exporter": "python",
   "pygments_lexer": "ipython3",
   "version": "3.9.7"
  }
 },
 "nbformat": 4,
 "nbformat_minor": 2
}
