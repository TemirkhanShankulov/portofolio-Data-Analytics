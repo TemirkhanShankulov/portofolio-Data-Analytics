{
 "cells": [
  {
   "cell_type": "markdown",
   "metadata": {},
   "source": [
    "### Файлы: Введение [Домашнее задание]"
   ]
  },
  {
   "cell_type": "markdown",
   "metadata": {},
   "source": [
    "Пожалуйста, создайте новый файл и напишите в нем текст (с несколькими строками более 5).\n",
    "Закройте файл. \n",
    "\n",
    "Откройте файл в разных режимах и поиграйте с ним. Проверьте все возможные ограничения."
   ]
  },
  {
   "cell_type": "code",
   "execution_count": 71,
   "metadata": {},
   "outputs": [
    {
     "name": "stdout",
     "output_type": "stream",
     "text": [
      "<_io.TextIOWrapper name='new_file.txt' mode='w' encoding='cp1251'>\n",
      "U.S. stocks wavered Friday ahead of the simultaneous expiration of an array of stock futures and options contracts that could result in increased volatility.Stocks opened little changed on Friday as Wall Street tried to recover from another sharp sell-off in major technology names. The market was also on pace for its first weekly gain of the month. Shares of Facebook rose 1%. Amazon, Netflix and Alphabet were all higher as well. Oracle, meanwhile, slipped after the U.S. government said it will block all TikTok and WeChat downloads in the country on Sunday. This comes as Oracle tries to finalize a partnership deal with TikTok-parent ByteDance\n"
     ]
    }
   ],
   "source": [
    "file = open(\"new_file.txt\",\"w\")\n",
    "print(file)\n",
    "input_str = \"U.S. stocks wavered Friday ahead of the simultaneous expiration of an array of stock futures and options contracts that could result in increased volatility.Stocks opened little changed on Friday as Wall Street tried to recover from another sharp sell-off in major technology names. The market was also on pace for its first weekly gain of the month. Shares of Facebook rose 1%. Amazon, Netflix and Alphabet were all higher as well. Oracle, meanwhile, slipped after the U.S. government said it will block all TikTok and WeChat downloads in the country on Sunday. This comes as Oracle tries to finalize a partnership deal with TikTok-parent ByteDance\"\n",
    "print(input_str)\n",
    "file.write(input_str)\n",
    "file.close()"
   ]
  },
  {
   "cell_type": "code",
   "execution_count": 72,
   "metadata": {
    "scrolled": true
   },
   "outputs": [
    {
     "name": "stdout",
     "output_type": "stream",
     "text": [
      "<_io.TextIOWrapper name='new_file.txt' mode='r' encoding='cp1251'>\n",
      "U.S. stocks wavered Friday ahead of the simultaneous expiration of an array of stock futures and options contracts that could result in increased volatility.Stocks opened little changed on Friday as Wall Street tried to recover from another sharp sell-off in major technology names. The market was also on pace for its first weekly gain of the month. Shares of Facebook rose 1%. Amazon, Netflix and Alphabet were all higher as well. Oracle, meanwhile, slipped after the U.S. government said it will block all TikTok and WeChat downloads in the country on Sunday. This comes as Oracle tries to finalize a partnership deal with TikTok-parent ByteDance\n"
     ]
    }
   ],
   "source": [
    "file = open(\"new_file.txt\",\"r\")\n",
    "print(file)\n",
    "data = file.read()\n",
    "print(data)\n",
    "file.close()"
   ]
  },
  {
   "cell_type": "code",
   "execution_count": 73,
   "metadata": {},
   "outputs": [
    {
     "name": "stdout",
     "output_type": "stream",
     "text": [
      "<_io.TextIOWrapper name='new_file.txt' mode='a' encoding='cp1251'>\n",
      " IT IS VERY INTERESTING TO LEARN CODING!!!!!!!!!!!!!!!!!!!!!!!!\n"
     ]
    },
    {
     "data": {
      "text/plain": [
       "63"
      ]
     },
     "execution_count": 73,
     "metadata": {},
     "output_type": "execute_result"
    }
   ],
   "source": [
    "file = open(\"new_file.txt\",\"a\")\n",
    "print(file)\n",
    "second_str = \" IT IS VERY INTERESTING TO LEARN CODING!!!!!!!!!!!!!!!!!!!!!!!!\"\n",
    "print(second_str)\n",
    "file.write(second_str)\n"
   ]
  },
  {
   "cell_type": "code",
   "execution_count": 74,
   "metadata": {},
   "outputs": [],
   "source": [
    "file.close()\n"
   ]
  }
 ],
 "metadata": {
  "kernelspec": {
   "display_name": "Python 3",
   "language": "python",
   "name": "python3"
  },
  "language_info": {
   "codemirror_mode": {
    "name": "ipython",
    "version": 3
   },
   "file_extension": ".py",
   "mimetype": "text/x-python",
   "name": "python",
   "nbconvert_exporter": "python",
   "pygments_lexer": "ipython3",
   "version": "3.8.3"
  }
 },
 "nbformat": 4,
 "nbformat_minor": 2
}
