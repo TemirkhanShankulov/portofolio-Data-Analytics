{
 "cells": [
  {
   "cell_type": "markdown",
   "metadata": {},
   "source": [
    "### Функции: Рекурсия [Домашнее задание]"
   ]
  },
  {
   "cell_type": "markdown",
   "metadata": {},
   "source": [
    "1. Пожалуйста, используя рекурсию напишите функцию **fibonacci_num(n)**, которая будет возвращать n-нное число Фибоначчи.\n",
    "\n",
    "Примеры :\n",
    "\n",
    "```\n",
    "fibonacci_num(5) # 1 1 2 3 5\n",
    "5\n",
    "\n",
    "fibonacci_num(8) # 1 1 2 3 5 8 13 21\n",
    "21\n",
    "```"
   ]
  },
  {
   "cell_type": "code",
   "execution_count": 50,
   "metadata": {},
   "outputs": [],
   "source": [
    "def fibonacci_num(n):\n",
    "    # Начало вашего кода\n",
    "    if n in (1, 2):\n",
    "        return 1\n",
    "    return fibonacci_num(n - 1) + fibonacci_num(n - 2)\n",
    "    # Конец вашего кода"
   ]
  },
  {
   "cell_type": "code",
   "execution_count": 51,
   "metadata": {},
   "outputs": [
    {
     "name": "stdout",
     "output_type": "stream",
     "text": [
      "5\n",
      "21\n"
     ]
    }
   ],
   "source": [
    "print(fibonacci_num(5))\n",
    "print(fibonacci_num(8))"
   ]
  },
  {
   "cell_type": "markdown",
   "metadata": {},
   "source": [
    "### Ожидаемый результат:\n",
    "```\n",
    "5\n",
    "21\n",
    "```"
   ]
  },
  {
   "cell_type": "markdown",
   "metadata": {},
   "source": [
    "2. Используя функцию **fibonacci_num(n)** написанную ранее, создайте новую функцию **fibonnaci_seq(n)**,\n",
    " которая будет возвращать список из n чисел Фибоначчи\n",
    "\n",
    "Примеры :\n",
    "\n",
    "```\n",
    "fibonacci_seq(5)\n",
    "[1, 1, 2, 3, 5]\n",
    "\n",
    "fibonacci_seq(8)\n",
    "[1, 1, 2, 3, 5, 8, 13, 21]\n",
    "```"
   ]
  },
  {
   "cell_type": "code",
   "execution_count": 48,
   "metadata": {},
   "outputs": [],
   "source": [
    "def fibonacci_seq(n: int):\n",
    "    if n == 1:\n",
    "        return [1]\n",
    "    elif n == 2:\n",
    "        return [1, 1]\n",
    "\n",
    "    li = fibonacci_seq(n-1)\n",
    "    li.append(li[-1] + li[-2])\n",
    "    return li"
   ]
  },
  {
   "cell_type": "code",
   "execution_count": 49,
   "metadata": {},
   "outputs": [
    {
     "name": "stdout",
     "output_type": "stream",
     "text": [
      "[1, 1, 2, 3, 5]\n",
      "[1, 1, 2, 3, 5, 8, 13, 21]\n"
     ]
    }
   ],
   "source": [
    "print(fibonacci_seq(5))\n",
    "print(fibonacci_seq(8))"
   ]
  },
  {
   "cell_type": "markdown",
   "metadata": {},
   "source": [
    "### Ожидаемый результат:\n",
    "```\n",
    "[1, 1, 2, 3, 5]\n",
    "[1, 1, 2, 3, 5, 8, 13, 21]\n",
    "```\n",
    "\n",
    "----"
   ]
  },
  {
   "cell_type": "markdown",
   "metadata": {},
   "source": [
    "3. Пожалуйста, напишите функцию **sequence(n)**, которая будет распечатывать последовательность чисел без использования цикла for / while. Если задано число n, выведите следующий последовательность чисел без использования цикла. Мы уменьшаем число n на 5, пока не достигнем отрицательного числа или 0.\n",
    "\n",
    "Примеры :\n",
    "\n",
    "```\n",
    "sequence(16)\n",
    "[16, 11, 6, 1, -4]\n",
    "\n",
    "sequence(10)\n",
    "[10, 5, 0]\n",
    "```"
   ]
  },
  {
   "cell_type": "code",
   "execution_count": 46,
   "metadata": {},
   "outputs": [],
   "source": [
    "def sequence(n, list_of_numbers=None):\n",
    "    if list_of_numbers is None:\n",
    "        list_of_numbers=[]\n",
    "    list_of_numbers.append(n)\n",
    "    if n<=0:\n",
    "        return list_of_numbers\n",
    "    return sequence(n-5, list_of_numbers)\n",
    "\n"
   ]
  },
  {
   "cell_type": "code",
   "execution_count": 47,
   "metadata": {},
   "outputs": [
    {
     "name": "stdout",
     "output_type": "stream",
     "text": [
      "[16, 11, 6, 1, -4]\n",
      "[40, 35, 30, 25, 20, 15, 10, 5, 0]\n"
     ]
    }
   ],
   "source": [
    "print(sequence(16))\n",
    "print(sequence(40))"
   ]
  },
  {
   "cell_type": "markdown",
   "metadata": {},
   "source": [
    "### Ожидаемый результат:\n",
    "```\n",
    "[16, 11, 6, 1, -4]\n",
    "[40, 35, 30, 25, 20, 15, 10, 5, 0]\n",
    "```\n",
    "\n",
    "----"
   ]
  },
  {
   "cell_type": "code",
   "execution_count": null,
   "metadata": {},
   "outputs": [],
   "source": []
  }
 ],
 "metadata": {
  "kernelspec": {
   "display_name": "Python 3 (ipykernel)",
   "language": "python",
   "name": "python3"
  },
  "language_info": {
   "codemirror_mode": {
    "name": "ipython",
    "version": 3
   },
   "file_extension": ".py",
   "mimetype": "text/x-python",
   "name": "python",
   "nbconvert_exporter": "python",
   "pygments_lexer": "ipython3",
   "version": "3.9.7"
  }
 },
 "nbformat": 4,
 "nbformat_minor": 2
}
