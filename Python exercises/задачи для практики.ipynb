{
 "cells": [
  {
   "cell_type": "markdown",
   "metadata": {},
   "source": [
    "1) Напишите функцию, которая возвращает сумму двух чисел.\n",
    "\n",
    "Например: для param1 = 1 и param2 = 2 результат должен быть\n",
    "add(param1, param2) = 3."
   ]
  },
  {
   "cell_type": "code",
   "execution_count": 1,
   "metadata": {},
   "outputs": [],
   "source": [
    "def add(param1,param2):\n",
    "    # Code here\n",
    "    if param1==0 and param2==0:\n",
    "        return \n",
    "    return param1+param2"
   ]
  },
  {
   "cell_type": "code",
   "execution_count": 2,
   "metadata": {},
   "outputs": [
    {
     "data": {
      "text/plain": [
       "3"
      ]
     },
     "execution_count": 2,
     "metadata": {},
     "output_type": "execute_result"
    }
   ],
   "source": [
    "add(2,1)"
   ]
  },
  {
   "cell_type": "markdown",
   "metadata": {},
   "source": [
    "2) Дано год, верните тот век, в котором он находится. Первый век охватывает период с 1 года до 100 года включительно, второй - с 101 года до 200 года включительно и т. д.\n",
    "\n",
    "Например: Для year = 1905 результат должен быть centuryFromYear(year) = 20;\n",
    "Для year = 1700, результат должен быть centuryFromYear(year) = 17."
   ]
  },
  {
   "cell_type": "code",
   "execution_count": 32,
   "metadata": {},
   "outputs": [],
   "source": [
    "import math\n",
    "def CenturyFromYear(year):\n",
    "    return math.ceil(year / 100)"
   ]
  },
  {
   "cell_type": "code",
   "execution_count": 33,
   "metadata": {},
   "outputs": [
    {
     "data": {
      "text/plain": [
       "17"
      ]
     },
     "execution_count": 33,
     "metadata": {},
     "output_type": "execute_result"
    }
   ],
   "source": [
    "CenturyFromYear(1700)"
   ]
  },
  {
   "cell_type": "markdown",
   "metadata": {},
   "source": [
    "3) Напишите функцию,которая проверяет строку является ли та палиндромом (палиндром - это строка, которая читается одинаково слева направо и справа налево).\n",
    "\n",
    "Например: Для inputString = \"aabaa\" вывод должен быть checkPalindrome(inputString) = true;\n",
    "\n",
    "Для inputString = \"abac\" вывод должен быть checkPalindrome(inputString) = false; \n",
    "\n",
    "Для inputString = \"a\" вывод должен быть checkPalindrome(inputString) = true."
   ]
  },
  {
   "cell_type": "code",
   "execution_count": 21,
   "metadata": {},
   "outputs": [],
   "source": [
    "\n",
    "def checkPalindrome():\n",
    "    # Code here\n",
    "    inputString = input()\n",
    "    if inputString!=inputString[::-1]:\n",
    "        return 'False'\n",
    "    else:\n",
    "        \n",
    "        return 'Palindrome'"
   ]
  },
  {
   "cell_type": "code",
   "execution_count": 22,
   "metadata": {},
   "outputs": [
    {
     "name": "stdout",
     "output_type": "stream",
     "text": [
      "aaaaaa\n"
     ]
    },
    {
     "data": {
      "text/plain": [
       "'Palindrome'"
      ]
     },
     "execution_count": 22,
     "metadata": {},
     "output_type": "execute_result"
    }
   ],
   "source": [
    "checkPalindrome()"
   ]
  },
  {
   "cell_type": "markdown",
   "metadata": {},
   "source": [
    "4) Вам дается двузначное целое число n. Вернуть сумму своих цифр.\n",
    "\n",
    "Например: для n = 29 вывод должен быть addTwoDigits(n) = 11."
   ]
  },
  {
   "cell_type": "code",
   "execution_count": 7,
   "metadata": {},
   "outputs": [],
   "source": [
    "def addTwoDigits(n):\n",
    "    # Code here\n",
    "    if n==0:\n",
    "        return \n",
    "    return  n//10+n % 10 \n",
    "    "
   ]
  },
  {
   "cell_type": "code",
   "execution_count": 8,
   "metadata": {},
   "outputs": [
    {
     "data": {
      "text/plain": [
       "11"
      ]
     },
     "execution_count": 8,
     "metadata": {},
     "output_type": "execute_result"
    }
   ],
   "source": [
    "addTwoDigits(29)"
   ]
  },
  {
   "cell_type": "markdown",
   "metadata": {},
   "source": [
    "5) Получив целое число n, верните наибольшее число, которое содержит ровно n цифр.\n",
    "\n",
    "Например: Для n = 2 результат должен быть largestNumber(n) = 99."
   ]
  },
  {
   "cell_type": "code",
   "execution_count": 44,
   "metadata": {},
   "outputs": [],
   "source": [
    "def largestNumber(n):\n",
    "    # Code here\n",
    "    if n>=1:\n",
    "        max = '9'*n\n",
    "        return int(max)\n",
    "    else:\n",
    "        return \"Вы ввели отрицательное число, либо 0\""
   ]
  },
  {
   "cell_type": "code",
   "execution_count": 45,
   "metadata": {},
   "outputs": [
    {
     "data": {
      "text/plain": [
       "9"
      ]
     },
     "execution_count": 45,
     "metadata": {},
     "output_type": "execute_result"
    }
   ],
   "source": [
    "largestNumber(1)"
   ]
  },
  {
   "cell_type": "markdown",
   "metadata": {},
   "source": [
    "6) Вам дано три целых числа, a, b и c. Гарантируется, что два из этих целых равны друг другу. Каково значение третьего целого числа?\n",
    "\n",
    "Например: Для a = 2, b = 7 и c = 2 вывод должен быть extraNumber (a, b, c) = 7. Два равных числа - это a и c. Третье число b равно 7, что является ответом."
   ]
  },
  {
   "cell_type": "code",
   "execution_count": 17,
   "metadata": {},
   "outputs": [],
   "source": [
    "def extraNumber(a, b, c):\n",
    "    # Code here\n",
    "    if a==b:\n",
    "        return c\n",
    "    elif a==c:\n",
    "        return b\n",
    "    else:\n",
    "        return a"
   ]
  },
  {
   "cell_type": "code",
   "execution_count": 18,
   "metadata": {},
   "outputs": [
    {
     "data": {
      "text/plain": [
       "1"
      ]
     },
     "execution_count": 18,
     "metadata": {},
     "output_type": "execute_result"
    }
   ],
   "source": [
    "extraNumber(3,1,3)"
   ]
  },
  {
   "cell_type": "markdown",
   "metadata": {},
   "source": [
    "7) Напишите функцию Python, которая принимает последовательность чисел и определяет, все ли числа отличаются друг от друга.\n",
    "\n",
    "Например: Для [1,5,7,9] вывод должен быть print(test_distinct([1,5,7,9])) = True, для [2,4,5,5,7,9] вывод должен быть print(test_distinct([2,4,5,5,7,9])) = False. "
   ]
  },
  {
   "cell_type": "code",
   "execution_count": 18,
   "metadata": {},
   "outputs": [],
   "source": [
    "def test_distinct(data):\n",
    "    # Code here\n",
    "   \n",
    "    data_set = set(data)\n",
    "    data_list = list(data_set)\n",
    "    if data != data_list:\n",
    "        print('False')\n",
    "    else:\n",
    "        print('True')\n",
    "data = [1,2,3,4,5,5]    "
   ]
  },
  {
   "cell_type": "code",
   "execution_count": 19,
   "metadata": {},
   "outputs": [
    {
     "name": "stdout",
     "output_type": "stream",
     "text": [
      "False\n"
     ]
    }
   ],
   "source": [
    "test_distinct(data)"
   ]
  },
  {
   "cell_type": "markdown",
   "metadata": {},
   "source": [
    "8) Напишите функцию Python для суммирования всех чисел в списке.\n",
    "\n",
    "Например: Для [8,2,3,0,7] вывод должен быть sum([8,2,3,0,7]) = 20."
   ]
  },
  {
   "cell_type": "code",
   "execution_count": 7,
   "metadata": {},
   "outputs": [],
   "source": [
    "def summa(a):\n",
    "    s = sum(a)\n",
    "    return s\n",
    "a = [5,6,7,8,9,10]"
   ]
  },
  {
   "cell_type": "code",
   "execution_count": 8,
   "metadata": {},
   "outputs": [
    {
     "data": {
      "text/plain": [
       "45"
      ]
     },
     "execution_count": 8,
     "metadata": {},
     "output_type": "execute_result"
    }
   ],
   "source": [
    "summa(a)"
   ]
  },
  {
   "cell_type": "markdown",
   "metadata": {},
   "source": [
    "9) Напишите функцию Python, которая принимает число в качестве параметра и проверяет, является ли число простым или нет.\n",
    "\n",
    "Примечание. Простое число - это натуральное число, больше 1, которое не имеет положительных делителей, кроме 1 и самого себя.\n",
    "\n",
    "Например: Для числа 9 вывод должен быть test_prime(9) = False, a для числа 9 вывод должен быть test_prime(19) = True. "
   ]
  },
  {
   "cell_type": "code",
   "execution_count": 39,
   "metadata": {},
   "outputs": [],
   "source": [
    "def test_prime(number):\n",
    "    n = number\n",
    "    counter = 0\n",
    "    for i in range(1, n + 1):\n",
    "        if n % i == 0:\n",
    "            counter += 1\n",
    "    return 'Простое число' if counter == 2 else 'Составное число'\n"
   ]
  },
  {
   "cell_type": "code",
   "execution_count": 40,
   "metadata": {},
   "outputs": [
    {
     "data": {
      "text/plain": [
       "'Простое число'"
      ]
     },
     "execution_count": 40,
     "metadata": {},
     "output_type": "execute_result"
    }
   ],
   "source": [
    "test_prime(19)"
   ]
  },
  {
   "cell_type": "markdown",
   "metadata": {},
   "source": [
    "10) Некоторые люди стоят в ряд в парке. Между ними есть деревья, которые не могут быть перемещены. Ваша задача состоит в том, чтобы переставить людей по их высоте в не убывающем порядке, не перемещая деревья. Люди могут быть очень высокими!\n",
    "\n",
    "Например: Для a = [-1, 150, 190, 170, -1, -1, 160, 180] вывод должен быть sortByHeight(a) = [-1, 150, 160, 170, -1, -1, 180, 190].\n",
    "\n"
   ]
  },
  {
   "cell_type": "code",
   "execution_count": 36,
   "metadata": {},
   "outputs": [],
   "source": [
    "def delete(list_0, element, i=-1):\n",
    "    while i < len(list_0):\n",
    "        for element_now in list_0:\n",
    "            i += 1\n",
    "            if element_now == element:\n",
    "                list_0.remove(element)\n",
    "                i = - 1\n",
    "                break\n",
    "    return list_0\n",
    "\n",
    "\n",
    "def list_index_element(element, list_0, list_index, j=-1):\n",
    "    for element_now in list_0:\n",
    "        j += 1\n",
    "        if element_now == element:\n",
    "            index_element = j\n",
    "            list_index.append(index_element)\n",
    "    return list_index\n",
    "\n",
    "\n",
    "def sort_three(not_taken_element, list_sort):\n",
    "    list_index_1 = []\n",
    "    list_index_element(not_taken_element, list_sort, list_index_1)\n",
    "    delete(list_sort, not_taken_element)\n",
    "    list_sort.sort()\n",
    "    for i in list_index_1:\n",
    "        list_sort.insert(i, -1)\n",
    "    return list_sort"
   ]
  },
  {
   "cell_type": "code",
   "execution_count": 37,
   "metadata": {},
   "outputs": [
    {
     "name": "stdout",
     "output_type": "stream",
     "text": [
      "[-1, -1, -1, 143, -1, -1, -1, -1, -1, -1, 455]\n"
     ]
    }
   ],
   "source": [
    "\n",
    "list_1 = [-1, -1, -1, 455, -1, -1, -1, -1, -1, -1, 143]\n",
    "sort_three(-1, list_1)\n",
    "print(list_1)\n"
   ]
  },
  {
   "cell_type": "markdown",
   "metadata": {},
   "source": [
    "# Прекрасная Работа!!!"
   ]
  }
 ],
 "metadata": {
  "kernelspec": {
   "display_name": "Python 3 (ipykernel)",
   "language": "python",
   "name": "python3"
  },
  "language_info": {
   "codemirror_mode": {
    "name": "ipython",
    "version": 3
   },
   "file_extension": ".py",
   "mimetype": "text/x-python",
   "name": "python",
   "nbconvert_exporter": "python",
   "pygments_lexer": "ipython3",
   "version": "3.9.7"
  }
 },
 "nbformat": 4,
 "nbformat_minor": 2
}
