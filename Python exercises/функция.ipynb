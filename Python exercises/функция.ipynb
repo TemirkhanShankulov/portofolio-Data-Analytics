{
 "cells": [
  {
   "cell_type": "markdown",
   "metadata": {},
   "source": [
    "### Функции: Введение [Домашнее задание]\n",
    "\n",
    "Создайте функцию sum_integers, которая принимает два аргумента a и b, для суммирования от положительного целого числа a до положительного целого числа b.\n",
    "\n",
    "Пример: sum_integers (3,5) должен вернуть 12. (3 + 4 + 5 = 12)"
   ]
  },
  {
   "cell_type": "code",
   "execution_count": 24,
   "metadata": {},
   "outputs": [],
   "source": [
    "def sum_integers(a, b):\n",
    "    if a == b:\n",
    "        return a\n",
    "    return a + sum_integers(a + 1, b)\n",
    "        "
   ]
  },
  {
   "cell_type": "code",
   "execution_count": 25,
   "metadata": {},
   "outputs": [
    {
     "name": "stdout",
     "output_type": "stream",
     "text": [
      "12\n",
      "55\n"
     ]
    }
   ],
   "source": [
    "print(sum_integers(3,5))\n",
    "print(sum_integers(0,10))"
   ]
  },
  {
   "cell_type": "markdown",
   "metadata": {},
   "source": [
    "### Ожидаемый результат:\n",
    "```\n",
    "12\n",
    "55\n",
    "```"
   ]
  }
 ],
 "metadata": {
  "kernelspec": {
   "display_name": "Python 3",
   "language": "python",
   "name": "python3"
  },
  "language_info": {
   "codemirror_mode": {
    "name": "ipython",
    "version": 3
   },
   "file_extension": ".py",
   "mimetype": "text/x-python",
   "name": "python",
   "nbconvert_exporter": "python",
   "pygments_lexer": "ipython3",
   "version": "3.8.3"
  }
 },
 "nbformat": 4,
 "nbformat_minor": 2
}
